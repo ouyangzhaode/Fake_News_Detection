{
 "cells": [
  {
   "cell_type": "code",
   "execution_count": 1,
   "metadata": {},
   "outputs": [],
   "source": [
    "from urllib.request import urlopen\n",
    "from xml.etree.ElementTree import parse\n",
    "import pandas as pd"
   ]
  },
  {
   "cell_type": "markdown",
   "metadata": {},
   "source": [
    "### visit website"
   ]
  },
  {
   "cell_type": "code",
   "execution_count": 2,
   "metadata": {
    "scrolled": true
   },
   "outputs": [],
   "source": [
    "var_url = urlopen('https://moxie.foxnews.com/feedburner/politics.xml')\n",
    "xmldoc = parse(var_url)"
   ]
  },
  {
   "cell_type": "markdown",
   "metadata": {},
   "source": [
    "### find information on website"
   ]
  },
  {
   "cell_type": "code",
   "execution_count": 3,
   "metadata": {},
   "outputs": [],
   "source": [
    "cols = [\"title\",\"description\",\"pubDate\"]\n",
    "rows = []\n",
    "  \n",
    "for i in xmldoc.iterfind('channel/item'):\n",
    "    if i.find(\"title\") is not None:\n",
    "        title = i.find(\"title\").text\n",
    "    \n",
    "    if i.find(\"description\") is not None:\n",
    "        description = i.find(\"description\").text\n",
    "        \n",
    "    if i.find(\"pubDate\") is not None:\n",
    "        pubDate = i.find(\"pubDate\").text\n",
    "\n",
    "    rows.append({\"title\": title, \"description\": description, \"pubDate\": pubDate})\n",
    "\n",
    "    df_updated = pd.DataFrame(rows, columns=cols)"
   ]
  },
  {
   "cell_type": "code",
   "execution_count": 4,
   "metadata": {},
   "outputs": [
    {
     "data": {
      "text/html": [
       "<div>\n",
       "<style scoped>\n",
       "    .dataframe tbody tr th:only-of-type {\n",
       "        vertical-align: middle;\n",
       "    }\n",
       "\n",
       "    .dataframe tbody tr th {\n",
       "        vertical-align: top;\n",
       "    }\n",
       "\n",
       "    .dataframe thead th {\n",
       "        text-align: right;\n",
       "    }\n",
       "</style>\n",
       "<table border=\"1\" class=\"dataframe\">\n",
       "  <thead>\n",
       "    <tr style=\"text-align: right;\">\n",
       "      <th></th>\n",
       "      <th>title</th>\n",
       "      <th>description</th>\n",
       "      <th>pubDate</th>\n",
       "    </tr>\n",
       "  </thead>\n",
       "  <tbody>\n",
       "    <tr>\n",
       "      <th>0</th>\n",
       "      <td>GOP Rep. Hal Rogers apologizes to Black Caucus...</td>\n",
       "      <td>Republican Rep. Hal Rogers has apologized to D...</td>\n",
       "      <td>Wed, 09 Feb 2022 03:06:46 GMT</td>\n",
       "    </tr>\n",
       "    <tr>\n",
       "      <th>1</th>\n",
       "      <td>Cori Bush won't drop 'defund the police' sloga...</td>\n",
       "      <td>Rep. Cori Bush, D-Mo., is refusing to back dow...</td>\n",
       "      <td>Wed, 09 Feb 2022 02:59:07 GMT</td>\n",
       "    </tr>\n",
       "    <tr>\n",
       "      <th>2</th>\n",
       "      <td>Biden: Florida bill addressing sex, gender con...</td>\n",
       "      <td>President Biden criticized a controversial bil...</td>\n",
       "      <td>Wed, 09 Feb 2022 01:41:10 GMT</td>\n",
       "    </tr>\n",
       "    <tr>\n",
       "      <th>3</th>\n",
       "      <td>Orthodox Jews and Catholic businessman join to...</td>\n",
       "      <td>A Roman Catholic businessman and five Orthodox...</td>\n",
       "      <td>Wed, 09 Feb 2022 01:29:57 GMT</td>\n",
       "    </tr>\n",
       "    <tr>\n",
       "      <th>4</th>\n",
       "      <td>Biden administration's Afghanistan withdrawal ...</td>\n",
       "      <td>A 2,000-page Army investigation found that sen...</td>\n",
       "      <td>Wed, 09 Feb 2022 00:46:36 GMT</td>\n",
       "    </tr>\n",
       "  </tbody>\n",
       "</table>\n",
       "</div>"
      ],
      "text/plain": [
       "                                               title  \\\n",
       "0  GOP Rep. Hal Rogers apologizes to Black Caucus...   \n",
       "1  Cori Bush won't drop 'defund the police' sloga...   \n",
       "2  Biden: Florida bill addressing sex, gender con...   \n",
       "3  Orthodox Jews and Catholic businessman join to...   \n",
       "4  Biden administration's Afghanistan withdrawal ...   \n",
       "\n",
       "                                         description  \\\n",
       "0  Republican Rep. Hal Rogers has apologized to D...   \n",
       "1  Rep. Cori Bush, D-Mo., is refusing to back dow...   \n",
       "2  President Biden criticized a controversial bil...   \n",
       "3  A Roman Catholic businessman and five Orthodox...   \n",
       "4  A 2,000-page Army investigation found that sen...   \n",
       "\n",
       "                         pubDate  \n",
       "0  Wed, 09 Feb 2022 03:06:46 GMT  \n",
       "1  Wed, 09 Feb 2022 02:59:07 GMT  \n",
       "2  Wed, 09 Feb 2022 01:41:10 GMT  \n",
       "3  Wed, 09 Feb 2022 01:29:57 GMT  \n",
       "4  Wed, 09 Feb 2022 00:46:36 GMT  "
      ]
     },
     "execution_count": 4,
     "metadata": {},
     "output_type": "execute_result"
    }
   ],
   "source": [
    "df_updated.head(5)"
   ]
  },
  {
   "cell_type": "markdown",
   "metadata": {},
   "source": [
    "### read from current csv"
   ]
  },
  {
   "cell_type": "code",
   "execution_count": 5,
   "metadata": {},
   "outputs": [],
   "source": [
    "current_csv_data = pd.read_csv(\"output.csv\", index_col=[0])"
   ]
  },
  {
   "cell_type": "code",
   "execution_count": 6,
   "metadata": {},
   "outputs": [
    {
     "data": {
      "text/plain": [
       "(134, 3)"
      ]
     },
     "execution_count": 6,
     "metadata": {},
     "output_type": "execute_result"
    }
   ],
   "source": [
    "current_csv_data.shape"
   ]
  },
  {
   "cell_type": "markdown",
   "metadata": {},
   "source": [
    "### combine current csv data and new data"
   ]
  },
  {
   "cell_type": "code",
   "execution_count": 7,
   "metadata": {},
   "outputs": [],
   "source": [
    "new_entries = pd.concat([current_csv_data, df_updated])"
   ]
  },
  {
   "cell_type": "markdown",
   "metadata": {},
   "source": [
    "### remove duplicate"
   ]
  },
  {
   "cell_type": "code",
   "execution_count": 8,
   "metadata": {},
   "outputs": [],
   "source": [
    "current_csv_data = new_entries.drop_duplicates(subset=['title'])"
   ]
  },
  {
   "cell_type": "markdown",
   "metadata": {},
   "source": [
    "### reset index column"
   ]
  },
  {
   "cell_type": "code",
   "execution_count": 9,
   "metadata": {},
   "outputs": [],
   "source": [
    "current_csv_data=current_csv_data.reset_index(drop=True)"
   ]
  },
  {
   "cell_type": "markdown",
   "metadata": {},
   "source": [
    "### save to csv"
   ]
  },
  {
   "cell_type": "code",
   "execution_count": 10,
   "metadata": {
    "scrolled": true
   },
   "outputs": [],
   "source": [
    "current_csv_data.to_csv('output.CSV')"
   ]
  },
  {
   "cell_type": "markdown",
   "metadata": {},
   "source": [
    "### read again to check "
   ]
  },
  {
   "cell_type": "code",
   "execution_count": 11,
   "metadata": {},
   "outputs": [],
   "source": [
    "df = pd.read_csv(\"output.csv\")"
   ]
  },
  {
   "cell_type": "markdown",
   "metadata": {},
   "source": [
    "### to check the size"
   ]
  },
  {
   "cell_type": "code",
   "execution_count": 12,
   "metadata": {},
   "outputs": [
    {
     "data": {
      "text/plain": [
       "(154, 4)"
      ]
     },
     "execution_count": 12,
     "metadata": {},
     "output_type": "execute_result"
    }
   ],
   "source": [
    "df.shape"
   ]
  }
 ],
 "metadata": {
  "kernelspec": {
   "display_name": "Python 3",
   "language": "python",
   "name": "python3"
  },
  "language_info": {
   "codemirror_mode": {
    "name": "ipython",
    "version": 3
   },
   "file_extension": ".py",
   "mimetype": "text/x-python",
   "name": "python",
   "nbconvert_exporter": "python",
   "pygments_lexer": "ipython3",
   "version": "3.8.5"
  }
 },
 "nbformat": 4,
 "nbformat_minor": 4
}

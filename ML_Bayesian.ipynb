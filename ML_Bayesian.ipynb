{
 "cells": [
  {
   "cell_type": "code",
   "execution_count": 1,
   "metadata": {},
   "outputs": [],
   "source": [
    "import pandas as pd\n",
    "import string"
   ]
  },
  {
   "cell_type": "code",
   "execution_count": 2,
   "metadata": {},
   "outputs": [],
   "source": [
    "true_text = {}\n",
    "fake_text = {}\n",
    "true = pd.read_csv('True.csv')\n",
    "fake = pd.read_csv('Fake.csv')"
   ]
  },
  {
   "cell_type": "code",
   "execution_count": 3,
   "metadata": {},
   "outputs": [],
   "source": [
    "def extract_words(category,dictionary):\n",
    "    for entry in category['title']:\n",
    "        words = entry.split()\n",
    "        for word in words:\n",
    "            lower_word = word.lower()\n",
    "            if word in dictionary:\n",
    "                dictionary[lower_word] += 1\n",
    "            else:\n",
    "                dictionary[lower_word] = 1\n",
    "    return dictionary"
   ]
  },
  {
   "cell_type": "code",
   "execution_count": 4,
   "metadata": {},
   "outputs": [],
   "source": [
    "def count_to_prob(dictionary,length):\n",
    "    for term in dictionary:\n",
    "        dictionary[term] = dictionary[term]/length\n",
    "    return dictionary"
   ]
  },
  {
   "cell_type": "code",
   "execution_count": 5,
   "metadata": {},
   "outputs": [],
   "source": [
    "def calculate_probability(dictionary,X,initial):\n",
    "    X.translate(str.maketrans('', '', string.punctuation))\n",
    "    X = X.lower()\n",
    "    split = X.split()\n",
    "    probability = initial\n",
    "    for term in split:\n",
    "        if term in dictionary:\n",
    "            probability *= dictionary[term]\n",
    "            print(term,dictionary[term])\n",
    "    return probability"
   ]
  },
  {
   "cell_type": "code",
   "execution_count": 8,
   "metadata": {},
   "outputs": [],
   "source": [
    "true_text = extract_words(true,true_text)\n",
    "fake_text = extract_words(fake,fake_text)\n",
    "true_count = len(true_text)\n",
    "fake_count = len(fake_text)\n",
    "true_text = count_to_prob(true_text,true_count)\n",
    "fake_text = count_to_prob(fake_text,fake_count)\n",
    "total_count = true_count + fake_count\n",
    "fake_initial = fake_count/total_count\n",
    "true_initial = true_count/total_count"
   ]
  },
  {
   "cell_type": "code",
   "execution_count": 15,
   "metadata": {},
   "outputs": [
    {
     "name": "stdout",
     "output_type": "stream",
     "text": [
      "hillary 3.340682835571591e-05\n",
      "clinton 3.340682835571591e-05\n",
      "eats 3.340682835571591e-05\n",
      "donald 3.340682835571591e-05\n",
      "trump 3.340682835571591e-05\n",
      "hillary 4.7521741196597446e-05\n",
      "clinton 4.7521741196597446e-05\n",
      "donald 4.7521741196597446e-05\n",
      "trump 4.7521741196597446e-05\n"
     ]
    },
    {
     "data": {
      "text/plain": [
       "False"
      ]
     },
     "execution_count": 15,
     "metadata": {},
     "output_type": "execute_result"
    }
   ],
   "source": [
    "X = 'Hillary Clinton eats Donald Trump'\n",
    "calculate_probability(fake_text,X,1)>calculate_probability(true_text,X,1)"
   ]
  },
  {
   "cell_type": "code",
   "execution_count": null,
   "metadata": {},
   "outputs": [],
   "source": []
  }
 ],
 "metadata": {
  "interpreter": {
   "hash": "91750c2a53790ed423a273a56ec734ea7db5090134fb92fb4e4bee44fe7b9fce"
  },
  "kernelspec": {
   "display_name": "Python 3.9.12 ('base')",
   "language": "python",
   "name": "python3"
  },
  "language_info": {
   "codemirror_mode": {
    "name": "ipython",
    "version": 3
   },
   "file_extension": ".py",
   "mimetype": "text/x-python",
   "name": "python",
   "nbconvert_exporter": "python",
   "pygments_lexer": "ipython3",
   "version": "3.9.12"
  }
 },
 "nbformat": 4,
 "nbformat_minor": 2
}

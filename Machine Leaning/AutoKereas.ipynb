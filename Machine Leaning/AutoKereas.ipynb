{
 "cells": [
  {
   "cell_type": "markdown",
   "metadata": {},
   "source": [
    "issues:\n",
    "1.no manual testing\n",
    "2.no remove stop word"
   ]
  },
  {
   "cell_type": "code",
   "execution_count": 2,
   "metadata": {},
   "outputs": [
    {
     "name": "stdout",
     "output_type": "stream",
     "text": [
      "Tensorflow version 2.9.1\n"
     ]
    }
   ],
   "source": [
    "#Importing the required Libraries\n",
    "import pandas as pd \n",
    "import matplotlib.pyplot as plt \n",
    "import numpy as np \n",
    "import tensorflow as tf \n",
    "import re \n",
    "from tensorflow.keras.preprocessing.text import Tokenizer\n",
    "import tensorflow as tf\n",
    "from sklearn.metrics import accuracy_score\n",
    "from sklearn.model_selection import train_test_split\n",
    "from sklearn.metrics import accuracy_score, confusion_matrix, precision_score, recall_score\n",
    "import seaborn as sns \n",
    "plt.style.use('ggplot')\n",
    "print(\"Tensorflow version \" + tf.__version__)"
   ]
  },
  {
   "cell_type": "code",
   "execution_count": 3,
   "metadata": {},
   "outputs": [
    {
     "name": "stdout",
     "output_type": "stream",
     "text": [
      "[PhysicalDevice(name='/physical_device:GPU:0', device_type='GPU')]\n"
     ]
    }
   ],
   "source": [
    "print(tf.config.list_physical_devices('GPU'))"
   ]
  },
  {
   "cell_type": "code",
   "execution_count": 4,
   "metadata": {},
   "outputs": [
    {
     "name": "stdout",
     "output_type": "stream",
     "text": [
      "INFO:tensorflow:Using MirroredStrategy with devices ('/job:localhost/replica:0/task:0/device:GPU:0',)\n",
      "Number of accelerators:  1\n"
     ]
    }
   ],
   "source": [
    "strategy = tf.distribute.MirroredStrategy() # for GPU or multi-GPU machines\n",
    "print(\"Number of accelerators: \", strategy.num_replicas_in_sync)"
   ]
  },
  {
   "cell_type": "code",
   "execution_count": 5,
   "metadata": {},
   "outputs": [],
   "source": [
    "fake_df = pd.read_csv('Fake.csv')\n",
    "real_df = pd.read_csv('True.csv')"
   ]
  },
  {
   "cell_type": "code",
   "execution_count": 6,
   "metadata": {},
   "outputs": [],
   "source": [
    "fake_df.drop(['date', 'subject'], axis=1, inplace=True)\n",
    "real_df.drop(['date', 'subject'], axis=1, inplace=True)"
   ]
  },
  {
   "cell_type": "code",
   "execution_count": 7,
   "metadata": {},
   "outputs": [],
   "source": [
    "fake_df['class'] = 0 \n",
    "real_df['class'] = 1"
   ]
  },
  {
   "cell_type": "code",
   "execution_count": 8,
   "metadata": {},
   "outputs": [
    {
     "data": {
      "text/html": [
       "<div>\n",
       "<style scoped>\n",
       "    .dataframe tbody tr th:only-of-type {\n",
       "        vertical-align: middle;\n",
       "    }\n",
       "\n",
       "    .dataframe tbody tr th {\n",
       "        vertical-align: top;\n",
       "    }\n",
       "\n",
       "    .dataframe thead th {\n",
       "        text-align: right;\n",
       "    }\n",
       "</style>\n",
       "<table border=\"1\" class=\"dataframe\">\n",
       "  <thead>\n",
       "    <tr style=\"text-align: right;\">\n",
       "      <th></th>\n",
       "      <th>title</th>\n",
       "      <th>text</th>\n",
       "      <th>class</th>\n",
       "    </tr>\n",
       "  </thead>\n",
       "  <tbody>\n",
       "    <tr>\n",
       "      <th>0</th>\n",
       "      <td>Donald Trump Sends Out Embarrassing New Year’...</td>\n",
       "      <td>Donald Trump just couldn t wish all Americans ...</td>\n",
       "      <td>0</td>\n",
       "    </tr>\n",
       "    <tr>\n",
       "      <th>1</th>\n",
       "      <td>Drunk Bragging Trump Staffer Started Russian ...</td>\n",
       "      <td>House Intelligence Committee Chairman Devin Nu...</td>\n",
       "      <td>0</td>\n",
       "    </tr>\n",
       "    <tr>\n",
       "      <th>2</th>\n",
       "      <td>Sheriff David Clarke Becomes An Internet Joke...</td>\n",
       "      <td>On Friday, it was revealed that former Milwauk...</td>\n",
       "      <td>0</td>\n",
       "    </tr>\n",
       "    <tr>\n",
       "      <th>3</th>\n",
       "      <td>Trump Is So Obsessed He Even Has Obama’s Name...</td>\n",
       "      <td>On Christmas day, Donald Trump announced that ...</td>\n",
       "      <td>0</td>\n",
       "    </tr>\n",
       "    <tr>\n",
       "      <th>4</th>\n",
       "      <td>Pope Francis Just Called Out Donald Trump Dur...</td>\n",
       "      <td>Pope Francis used his annual Christmas Day mes...</td>\n",
       "      <td>0</td>\n",
       "    </tr>\n",
       "    <tr>\n",
       "      <th>...</th>\n",
       "      <td>...</td>\n",
       "      <td>...</td>\n",
       "      <td>...</td>\n",
       "    </tr>\n",
       "    <tr>\n",
       "      <th>44893</th>\n",
       "      <td>'Fully committed' NATO backs new U.S. approach...</td>\n",
       "      <td>BRUSSELS (Reuters) - NATO allies on Tuesday we...</td>\n",
       "      <td>1</td>\n",
       "    </tr>\n",
       "    <tr>\n",
       "      <th>44894</th>\n",
       "      <td>LexisNexis withdrew two products from Chinese ...</td>\n",
       "      <td>LONDON (Reuters) - LexisNexis, a provider of l...</td>\n",
       "      <td>1</td>\n",
       "    </tr>\n",
       "    <tr>\n",
       "      <th>44895</th>\n",
       "      <td>Minsk cultural hub becomes haven from authorities</td>\n",
       "      <td>MINSK (Reuters) - In the shadow of disused Sov...</td>\n",
       "      <td>1</td>\n",
       "    </tr>\n",
       "    <tr>\n",
       "      <th>44896</th>\n",
       "      <td>Vatican upbeat on possibility of Pope Francis ...</td>\n",
       "      <td>MOSCOW (Reuters) - Vatican Secretary of State ...</td>\n",
       "      <td>1</td>\n",
       "    </tr>\n",
       "    <tr>\n",
       "      <th>44897</th>\n",
       "      <td>Indonesia to buy $1.14 billion worth of Russia...</td>\n",
       "      <td>JAKARTA (Reuters) - Indonesia will buy 11 Sukh...</td>\n",
       "      <td>1</td>\n",
       "    </tr>\n",
       "  </tbody>\n",
       "</table>\n",
       "<p>44898 rows × 3 columns</p>\n",
       "</div>"
      ],
      "text/plain": [
       "                                                   title  \\\n",
       "0       Donald Trump Sends Out Embarrassing New Year’...   \n",
       "1       Drunk Bragging Trump Staffer Started Russian ...   \n",
       "2       Sheriff David Clarke Becomes An Internet Joke...   \n",
       "3       Trump Is So Obsessed He Even Has Obama’s Name...   \n",
       "4       Pope Francis Just Called Out Donald Trump Dur...   \n",
       "...                                                  ...   \n",
       "44893  'Fully committed' NATO backs new U.S. approach...   \n",
       "44894  LexisNexis withdrew two products from Chinese ...   \n",
       "44895  Minsk cultural hub becomes haven from authorities   \n",
       "44896  Vatican upbeat on possibility of Pope Francis ...   \n",
       "44897  Indonesia to buy $1.14 billion worth of Russia...   \n",
       "\n",
       "                                                    text  class  \n",
       "0      Donald Trump just couldn t wish all Americans ...      0  \n",
       "1      House Intelligence Committee Chairman Devin Nu...      0  \n",
       "2      On Friday, it was revealed that former Milwauk...      0  \n",
       "3      On Christmas day, Donald Trump announced that ...      0  \n",
       "4      Pope Francis used his annual Christmas Day mes...      0  \n",
       "...                                                  ...    ...  \n",
       "44893  BRUSSELS (Reuters) - NATO allies on Tuesday we...      1  \n",
       "44894  LONDON (Reuters) - LexisNexis, a provider of l...      1  \n",
       "44895  MINSK (Reuters) - In the shadow of disused Sov...      1  \n",
       "44896  MOSCOW (Reuters) - Vatican Secretary of State ...      1  \n",
       "44897  JAKARTA (Reuters) - Indonesia will buy 11 Sukh...      1  \n",
       "\n",
       "[44898 rows x 3 columns]"
      ]
     },
     "execution_count": 8,
     "metadata": {},
     "output_type": "execute_result"
    }
   ],
   "source": [
    "news_df = pd.concat([fake_df, real_df], ignore_index=True, sort=False)\n",
    "news_df"
   ]
  },
  {
   "cell_type": "code",
   "execution_count": 9,
   "metadata": {},
   "outputs": [],
   "source": [
    "news_df['text'] = news_df['title'] + news_df['text']\n",
    "news_df.drop('title', axis=1, inplace=True)"
   ]
  },
  {
   "cell_type": "code",
   "execution_count": 10,
   "metadata": {},
   "outputs": [],
   "source": [
    "features = news_df['text']\n",
    "targets = news_df['class']\n",
    "\n",
    "X_train, x_test, y_train, y_test = train_test_split(features, targets, test_size=0.20, random_state=18)"
   ]
  },
  {
   "cell_type": "code",
   "execution_count": 11,
   "metadata": {},
   "outputs": [
    {
     "name": "stdout",
     "output_type": "stream",
     "text": [
      "(35918,)\n",
      "(35918,)\n"
     ]
    }
   ],
   "source": [
    "import autokeras as ak\n",
    "\n",
    "x_train = X_train.to_numpy()\n",
    "y_train = y_train.to_numpy()\n",
    "x_test = x_test.to_numpy()\n",
    "y_test = y_test.to_numpy()\n",
    "\n",
    "print(x_train.shape)  # (25000,)\n",
    "print(y_train.shape)  # (25000, 1)\n"
   ]
  },
  {
   "cell_type": "code",
   "execution_count": 18,
   "metadata": {},
   "outputs": [
    {
     "name": "stdout",
     "output_type": "stream",
     "text": [
      "Trial 2 Complete [00h 04m 29s]\n",
      "val_loss: 0.019112441688776016\n",
      "\n",
      "Best val_loss So Far: 0.008246020413935184\n",
      "Total elapsed time: 00h 08m 27s\n",
      "\n",
      "Search: Running Trial #3\n",
      "\n",
      "Value             |Best Value So Far |Hyperparameter\n",
      "bert              |vanilla           |text_block_1/block_type\n",
      "0                 |0                 |classification_head_1/dropout\n",
      "adam_weight_decay |adam              |optimizer\n",
      "2e-05             |0.001             |learning_rate\n",
      "512               |None              |text_block_1/bert_block_1/max_sequence_length\n",
      "20000             |5000              |text_block_1/max_tokens\n",
      "\n"
     ]
    },
    {
     "name": "stderr",
     "output_type": "stream",
     "text": [
      "Traceback (most recent call last):\n",
      "  File \"c:\\Users\\ouyan\\anaconda3\\lib\\site-packages\\keras_tuner\\engine\\tuner.py\", line 158, in _try_build\n",
      "    model = self._build_hypermodel(hp)\n",
      "  File \"c:\\Users\\ouyan\\anaconda3\\lib\\site-packages\\keras_tuner\\engine\\tuner.py\", line 146, in _build_hypermodel\n",
      "    model = self.hypermodel.build(hp)\n",
      "  File \"c:\\Users\\ouyan\\anaconda3\\lib\\site-packages\\keras_tuner\\engine\\hypermodel.py\", line 111, in _build_wrapper\n",
      "    return self._build(hp, *args, **kwargs)\n",
      "  File \"c:\\Users\\ouyan\\anaconda3\\lib\\site-packages\\autokeras\\graph.py\", line 250, in build\n",
      "    outputs = block.build(hp, inputs=temp_inputs)\n",
      "  File \"c:\\Users\\ouyan\\anaconda3\\lib\\site-packages\\autokeras\\engine\\block.py\", line 38, in _build_wrapper\n",
      "    return super()._build_wrapper(hp, *args, **kwargs)\n",
      "  File \"c:\\Users\\ouyan\\anaconda3\\lib\\site-packages\\keras_tuner\\engine\\hypermodel.py\", line 111, in _build_wrapper\n",
      "    return self._build(hp, *args, **kwargs)\n",
      "  File \"c:\\Users\\ouyan\\anaconda3\\lib\\site-packages\\autokeras\\blocks\\wrapper.py\", line 159, in build\n",
      "    output_node = self._build_block(hp, output_node, block_type)\n",
      "  File \"c:\\Users\\ouyan\\anaconda3\\lib\\site-packages\\autokeras\\blocks\\wrapper.py\", line 174, in _build_block\n",
      "    output_node = basic.BertBlock().build(hp, output_node)\n",
      "  File \"c:\\Users\\ouyan\\anaconda3\\lib\\site-packages\\autokeras\\engine\\block.py\", line 38, in _build_wrapper\n",
      "    return super()._build_wrapper(hp, *args, **kwargs)\n",
      "  File \"c:\\Users\\ouyan\\anaconda3\\lib\\site-packages\\keras_tuner\\engine\\hypermodel.py\", line 111, in _build_wrapper\n",
      "    return self._build(hp, *args, **kwargs)\n",
      "  File \"c:\\Users\\ouyan\\anaconda3\\lib\\site-packages\\autokeras\\blocks\\basic.py\", line 984, in build\n",
      "    bert_encoder.load_pretrained_weights()\n",
      "  File \"c:\\Users\\ouyan\\anaconda3\\lib\\site-packages\\autokeras\\keras_layers.py\", line 292, in load_pretrained_weights\n",
      "    path = keras.utils.get_file(\n",
      "  File \"c:\\Users\\ouyan\\anaconda3\\lib\\site-packages\\keras\\utils\\data_utils.py\", line 308, in get_file\n",
      "    _extract_archive(fpath, datadir, archive_format)\n",
      "  File \"c:\\Users\\ouyan\\anaconda3\\lib\\site-packages\\keras\\utils\\data_utils.py\", line 137, in _extract_archive\n",
      "    archive.extractall(path)\n",
      "  File \"c:\\Users\\ouyan\\anaconda3\\lib\\tarfile.py\", line 2045, in extractall\n",
      "    self.extract(tarinfo, path, set_attrs=not tarinfo.isdir(),\n",
      "  File \"c:\\Users\\ouyan\\anaconda3\\lib\\tarfile.py\", line 2086, in extract\n",
      "    self._extract_member(tarinfo, os.path.join(path, tarinfo.name),\n",
      "  File \"c:\\Users\\ouyan\\anaconda3\\lib\\tarfile.py\", line 2159, in _extract_member\n",
      "    self.makefile(tarinfo, targetpath)\n",
      "  File \"c:\\Users\\ouyan\\anaconda3\\lib\\tarfile.py\", line 2208, in makefile\n",
      "    copyfileobj(source, target, tarinfo.size, ReadError, bufsize)\n",
      "  File \"c:\\Users\\ouyan\\anaconda3\\lib\\tarfile.py\", line 247, in copyfileobj\n",
      "    buf = src.read(bufsize)\n",
      "  File \"c:\\Users\\ouyan\\anaconda3\\lib\\gzip.py\", line 300, in read\n",
      "    return self._buffer.read(size)\n",
      "  File \"c:\\Users\\ouyan\\anaconda3\\lib\\_compression.py\", line 68, in readinto\n",
      "    data = self.read(len(byte_view))\n",
      "  File \"c:\\Users\\ouyan\\anaconda3\\lib\\gzip.py\", line 506, in read\n",
      "    raise EOFError(\"Compressed file ended before the \"\n",
      "EOFError: Compressed file ended before the end-of-stream marker was reached\n"
     ]
    },
    {
     "name": "stdout",
     "output_type": "stream",
     "text": [
      "Invalid model 0/5\n"
     ]
    },
    {
     "name": "stderr",
     "output_type": "stream",
     "text": [
      "Traceback (most recent call last):\n",
      "  File \"c:\\Users\\ouyan\\anaconda3\\lib\\site-packages\\keras_tuner\\engine\\tuner.py\", line 158, in _try_build\n",
      "    model = self._build_hypermodel(hp)\n",
      "  File \"c:\\Users\\ouyan\\anaconda3\\lib\\site-packages\\keras_tuner\\engine\\tuner.py\", line 146, in _build_hypermodel\n",
      "    model = self.hypermodel.build(hp)\n",
      "  File \"c:\\Users\\ouyan\\anaconda3\\lib\\site-packages\\keras_tuner\\engine\\hypermodel.py\", line 111, in _build_wrapper\n",
      "    return self._build(hp, *args, **kwargs)\n",
      "  File \"c:\\Users\\ouyan\\anaconda3\\lib\\site-packages\\autokeras\\graph.py\", line 250, in build\n",
      "    outputs = block.build(hp, inputs=temp_inputs)\n",
      "  File \"c:\\Users\\ouyan\\anaconda3\\lib\\site-packages\\autokeras\\engine\\block.py\", line 38, in _build_wrapper\n",
      "    return super()._build_wrapper(hp, *args, **kwargs)\n",
      "  File \"c:\\Users\\ouyan\\anaconda3\\lib\\site-packages\\keras_tuner\\engine\\hypermodel.py\", line 111, in _build_wrapper\n",
      "    return self._build(hp, *args, **kwargs)\n",
      "  File \"c:\\Users\\ouyan\\anaconda3\\lib\\site-packages\\autokeras\\blocks\\wrapper.py\", line 159, in build\n",
      "    output_node = self._build_block(hp, output_node, block_type)\n",
      "  File \"c:\\Users\\ouyan\\anaconda3\\lib\\site-packages\\autokeras\\blocks\\wrapper.py\", line 174, in _build_block\n",
      "    output_node = basic.BertBlock().build(hp, output_node)\n",
      "  File \"c:\\Users\\ouyan\\anaconda3\\lib\\site-packages\\autokeras\\engine\\block.py\", line 38, in _build_wrapper\n",
      "    return super()._build_wrapper(hp, *args, **kwargs)\n",
      "  File \"c:\\Users\\ouyan\\anaconda3\\lib\\site-packages\\keras_tuner\\engine\\hypermodel.py\", line 111, in _build_wrapper\n",
      "    return self._build(hp, *args, **kwargs)\n",
      "  File \"c:\\Users\\ouyan\\anaconda3\\lib\\site-packages\\autokeras\\blocks\\basic.py\", line 984, in build\n",
      "    bert_encoder.load_pretrained_weights()\n",
      "  File \"c:\\Users\\ouyan\\anaconda3\\lib\\site-packages\\autokeras\\keras_layers.py\", line 292, in load_pretrained_weights\n",
      "    path = keras.utils.get_file(\n",
      "  File \"c:\\Users\\ouyan\\anaconda3\\lib\\site-packages\\keras\\utils\\data_utils.py\", line 308, in get_file\n",
      "    _extract_archive(fpath, datadir, archive_format)\n",
      "  File \"c:\\Users\\ouyan\\anaconda3\\lib\\site-packages\\keras\\utils\\data_utils.py\", line 137, in _extract_archive\n",
      "    archive.extractall(path)\n",
      "  File \"c:\\Users\\ouyan\\anaconda3\\lib\\tarfile.py\", line 2045, in extractall\n",
      "    self.extract(tarinfo, path, set_attrs=not tarinfo.isdir(),\n",
      "  File \"c:\\Users\\ouyan\\anaconda3\\lib\\tarfile.py\", line 2086, in extract\n",
      "    self._extract_member(tarinfo, os.path.join(path, tarinfo.name),\n",
      "  File \"c:\\Users\\ouyan\\anaconda3\\lib\\tarfile.py\", line 2159, in _extract_member\n",
      "    self.makefile(tarinfo, targetpath)\n",
      "  File \"c:\\Users\\ouyan\\anaconda3\\lib\\tarfile.py\", line 2208, in makefile\n",
      "    copyfileobj(source, target, tarinfo.size, ReadError, bufsize)\n",
      "  File \"c:\\Users\\ouyan\\anaconda3\\lib\\tarfile.py\", line 247, in copyfileobj\n",
      "    buf = src.read(bufsize)\n",
      "  File \"c:\\Users\\ouyan\\anaconda3\\lib\\gzip.py\", line 300, in read\n",
      "    return self._buffer.read(size)\n",
      "  File \"c:\\Users\\ouyan\\anaconda3\\lib\\_compression.py\", line 68, in readinto\n",
      "    data = self.read(len(byte_view))\n",
      "  File \"c:\\Users\\ouyan\\anaconda3\\lib\\gzip.py\", line 506, in read\n",
      "    raise EOFError(\"Compressed file ended before the \"\n",
      "EOFError: Compressed file ended before the end-of-stream marker was reached\n"
     ]
    },
    {
     "name": "stdout",
     "output_type": "stream",
     "text": [
      "Invalid model 1/5\n"
     ]
    },
    {
     "name": "stderr",
     "output_type": "stream",
     "text": [
      "Traceback (most recent call last):\n",
      "  File \"c:\\Users\\ouyan\\anaconda3\\lib\\site-packages\\keras_tuner\\engine\\tuner.py\", line 158, in _try_build\n",
      "    model = self._build_hypermodel(hp)\n",
      "  File \"c:\\Users\\ouyan\\anaconda3\\lib\\site-packages\\keras_tuner\\engine\\tuner.py\", line 146, in _build_hypermodel\n",
      "    model = self.hypermodel.build(hp)\n",
      "  File \"c:\\Users\\ouyan\\anaconda3\\lib\\site-packages\\keras_tuner\\engine\\hypermodel.py\", line 111, in _build_wrapper\n",
      "    return self._build(hp, *args, **kwargs)\n",
      "  File \"c:\\Users\\ouyan\\anaconda3\\lib\\site-packages\\autokeras\\graph.py\", line 250, in build\n",
      "    outputs = block.build(hp, inputs=temp_inputs)\n",
      "  File \"c:\\Users\\ouyan\\anaconda3\\lib\\site-packages\\autokeras\\engine\\block.py\", line 38, in _build_wrapper\n",
      "    return super()._build_wrapper(hp, *args, **kwargs)\n",
      "  File \"c:\\Users\\ouyan\\anaconda3\\lib\\site-packages\\keras_tuner\\engine\\hypermodel.py\", line 111, in _build_wrapper\n",
      "    return self._build(hp, *args, **kwargs)\n",
      "  File \"c:\\Users\\ouyan\\anaconda3\\lib\\site-packages\\autokeras\\blocks\\wrapper.py\", line 159, in build\n",
      "    output_node = self._build_block(hp, output_node, block_type)\n",
      "  File \"c:\\Users\\ouyan\\anaconda3\\lib\\site-packages\\autokeras\\blocks\\wrapper.py\", line 174, in _build_block\n",
      "    output_node = basic.BertBlock().build(hp, output_node)\n",
      "  File \"c:\\Users\\ouyan\\anaconda3\\lib\\site-packages\\autokeras\\engine\\block.py\", line 38, in _build_wrapper\n",
      "    return super()._build_wrapper(hp, *args, **kwargs)\n",
      "  File \"c:\\Users\\ouyan\\anaconda3\\lib\\site-packages\\keras_tuner\\engine\\hypermodel.py\", line 111, in _build_wrapper\n",
      "    return self._build(hp, *args, **kwargs)\n",
      "  File \"c:\\Users\\ouyan\\anaconda3\\lib\\site-packages\\autokeras\\blocks\\basic.py\", line 984, in build\n",
      "    bert_encoder.load_pretrained_weights()\n",
      "  File \"c:\\Users\\ouyan\\anaconda3\\lib\\site-packages\\autokeras\\keras_layers.py\", line 292, in load_pretrained_weights\n",
      "    path = keras.utils.get_file(\n",
      "  File \"c:\\Users\\ouyan\\anaconda3\\lib\\site-packages\\keras\\utils\\data_utils.py\", line 308, in get_file\n",
      "    _extract_archive(fpath, datadir, archive_format)\n",
      "  File \"c:\\Users\\ouyan\\anaconda3\\lib\\site-packages\\keras\\utils\\data_utils.py\", line 137, in _extract_archive\n",
      "    archive.extractall(path)\n",
      "  File \"c:\\Users\\ouyan\\anaconda3\\lib\\tarfile.py\", line 2045, in extractall\n",
      "    self.extract(tarinfo, path, set_attrs=not tarinfo.isdir(),\n",
      "  File \"c:\\Users\\ouyan\\anaconda3\\lib\\tarfile.py\", line 2086, in extract\n",
      "    self._extract_member(tarinfo, os.path.join(path, tarinfo.name),\n",
      "  File \"c:\\Users\\ouyan\\anaconda3\\lib\\tarfile.py\", line 2159, in _extract_member\n",
      "    self.makefile(tarinfo, targetpath)\n",
      "  File \"c:\\Users\\ouyan\\anaconda3\\lib\\tarfile.py\", line 2208, in makefile\n",
      "    copyfileobj(source, target, tarinfo.size, ReadError, bufsize)\n",
      "  File \"c:\\Users\\ouyan\\anaconda3\\lib\\tarfile.py\", line 247, in copyfileobj\n",
      "    buf = src.read(bufsize)\n",
      "  File \"c:\\Users\\ouyan\\anaconda3\\lib\\gzip.py\", line 300, in read\n",
      "    return self._buffer.read(size)\n",
      "  File \"c:\\Users\\ouyan\\anaconda3\\lib\\_compression.py\", line 68, in readinto\n",
      "    data = self.read(len(byte_view))\n",
      "  File \"c:\\Users\\ouyan\\anaconda3\\lib\\gzip.py\", line 506, in read\n",
      "    raise EOFError(\"Compressed file ended before the \"\n",
      "EOFError: Compressed file ended before the end-of-stream marker was reached\n"
     ]
    },
    {
     "name": "stdout",
     "output_type": "stream",
     "text": [
      "Invalid model 2/5\n"
     ]
    },
    {
     "name": "stderr",
     "output_type": "stream",
     "text": [
      "Traceback (most recent call last):\n",
      "  File \"c:\\Users\\ouyan\\anaconda3\\lib\\site-packages\\keras_tuner\\engine\\tuner.py\", line 158, in _try_build\n",
      "    model = self._build_hypermodel(hp)\n",
      "  File \"c:\\Users\\ouyan\\anaconda3\\lib\\site-packages\\keras_tuner\\engine\\tuner.py\", line 146, in _build_hypermodel\n",
      "    model = self.hypermodel.build(hp)\n",
      "  File \"c:\\Users\\ouyan\\anaconda3\\lib\\site-packages\\keras_tuner\\engine\\hypermodel.py\", line 111, in _build_wrapper\n",
      "    return self._build(hp, *args, **kwargs)\n",
      "  File \"c:\\Users\\ouyan\\anaconda3\\lib\\site-packages\\autokeras\\graph.py\", line 250, in build\n",
      "    outputs = block.build(hp, inputs=temp_inputs)\n",
      "  File \"c:\\Users\\ouyan\\anaconda3\\lib\\site-packages\\autokeras\\engine\\block.py\", line 38, in _build_wrapper\n",
      "    return super()._build_wrapper(hp, *args, **kwargs)\n",
      "  File \"c:\\Users\\ouyan\\anaconda3\\lib\\site-packages\\keras_tuner\\engine\\hypermodel.py\", line 111, in _build_wrapper\n",
      "    return self._build(hp, *args, **kwargs)\n",
      "  File \"c:\\Users\\ouyan\\anaconda3\\lib\\site-packages\\autokeras\\blocks\\wrapper.py\", line 159, in build\n",
      "    output_node = self._build_block(hp, output_node, block_type)\n",
      "  File \"c:\\Users\\ouyan\\anaconda3\\lib\\site-packages\\autokeras\\blocks\\wrapper.py\", line 174, in _build_block\n",
      "    output_node = basic.BertBlock().build(hp, output_node)\n",
      "  File \"c:\\Users\\ouyan\\anaconda3\\lib\\site-packages\\autokeras\\engine\\block.py\", line 38, in _build_wrapper\n",
      "    return super()._build_wrapper(hp, *args, **kwargs)\n",
      "  File \"c:\\Users\\ouyan\\anaconda3\\lib\\site-packages\\keras_tuner\\engine\\hypermodel.py\", line 111, in _build_wrapper\n",
      "    return self._build(hp, *args, **kwargs)\n",
      "  File \"c:\\Users\\ouyan\\anaconda3\\lib\\site-packages\\autokeras\\blocks\\basic.py\", line 984, in build\n",
      "    bert_encoder.load_pretrained_weights()\n",
      "  File \"c:\\Users\\ouyan\\anaconda3\\lib\\site-packages\\autokeras\\keras_layers.py\", line 292, in load_pretrained_weights\n",
      "    path = keras.utils.get_file(\n",
      "  File \"c:\\Users\\ouyan\\anaconda3\\lib\\site-packages\\keras\\utils\\data_utils.py\", line 308, in get_file\n",
      "    _extract_archive(fpath, datadir, archive_format)\n",
      "  File \"c:\\Users\\ouyan\\anaconda3\\lib\\site-packages\\keras\\utils\\data_utils.py\", line 137, in _extract_archive\n",
      "    archive.extractall(path)\n",
      "  File \"c:\\Users\\ouyan\\anaconda3\\lib\\tarfile.py\", line 2045, in extractall\n",
      "    self.extract(tarinfo, path, set_attrs=not tarinfo.isdir(),\n",
      "  File \"c:\\Users\\ouyan\\anaconda3\\lib\\tarfile.py\", line 2086, in extract\n",
      "    self._extract_member(tarinfo, os.path.join(path, tarinfo.name),\n",
      "  File \"c:\\Users\\ouyan\\anaconda3\\lib\\tarfile.py\", line 2159, in _extract_member\n",
      "    self.makefile(tarinfo, targetpath)\n",
      "  File \"c:\\Users\\ouyan\\anaconda3\\lib\\tarfile.py\", line 2208, in makefile\n",
      "    copyfileobj(source, target, tarinfo.size, ReadError, bufsize)\n",
      "  File \"c:\\Users\\ouyan\\anaconda3\\lib\\tarfile.py\", line 247, in copyfileobj\n",
      "    buf = src.read(bufsize)\n",
      "  File \"c:\\Users\\ouyan\\anaconda3\\lib\\gzip.py\", line 300, in read\n",
      "    return self._buffer.read(size)\n",
      "  File \"c:\\Users\\ouyan\\anaconda3\\lib\\_compression.py\", line 68, in readinto\n",
      "    data = self.read(len(byte_view))\n",
      "  File \"c:\\Users\\ouyan\\anaconda3\\lib\\gzip.py\", line 506, in read\n",
      "    raise EOFError(\"Compressed file ended before the \"\n",
      "EOFError: Compressed file ended before the end-of-stream marker was reached\n"
     ]
    },
    {
     "name": "stdout",
     "output_type": "stream",
     "text": [
      "Invalid model 3/5\n"
     ]
    },
    {
     "name": "stderr",
     "output_type": "stream",
     "text": [
      "Traceback (most recent call last):\n",
      "  File \"c:\\Users\\ouyan\\anaconda3\\lib\\site-packages\\keras_tuner\\engine\\tuner.py\", line 158, in _try_build\n",
      "    model = self._build_hypermodel(hp)\n",
      "  File \"c:\\Users\\ouyan\\anaconda3\\lib\\site-packages\\keras_tuner\\engine\\tuner.py\", line 146, in _build_hypermodel\n",
      "    model = self.hypermodel.build(hp)\n",
      "  File \"c:\\Users\\ouyan\\anaconda3\\lib\\site-packages\\keras_tuner\\engine\\hypermodel.py\", line 111, in _build_wrapper\n",
      "    return self._build(hp, *args, **kwargs)\n",
      "  File \"c:\\Users\\ouyan\\anaconda3\\lib\\site-packages\\autokeras\\graph.py\", line 250, in build\n",
      "    outputs = block.build(hp, inputs=temp_inputs)\n",
      "  File \"c:\\Users\\ouyan\\anaconda3\\lib\\site-packages\\autokeras\\engine\\block.py\", line 38, in _build_wrapper\n",
      "    return super()._build_wrapper(hp, *args, **kwargs)\n",
      "  File \"c:\\Users\\ouyan\\anaconda3\\lib\\site-packages\\keras_tuner\\engine\\hypermodel.py\", line 111, in _build_wrapper\n",
      "    return self._build(hp, *args, **kwargs)\n",
      "  File \"c:\\Users\\ouyan\\anaconda3\\lib\\site-packages\\autokeras\\blocks\\wrapper.py\", line 159, in build\n",
      "    output_node = self._build_block(hp, output_node, block_type)\n",
      "  File \"c:\\Users\\ouyan\\anaconda3\\lib\\site-packages\\autokeras\\blocks\\wrapper.py\", line 174, in _build_block\n",
      "    output_node = basic.BertBlock().build(hp, output_node)\n",
      "  File \"c:\\Users\\ouyan\\anaconda3\\lib\\site-packages\\autokeras\\engine\\block.py\", line 38, in _build_wrapper\n",
      "    return super()._build_wrapper(hp, *args, **kwargs)\n",
      "  File \"c:\\Users\\ouyan\\anaconda3\\lib\\site-packages\\keras_tuner\\engine\\hypermodel.py\", line 111, in _build_wrapper\n",
      "    return self._build(hp, *args, **kwargs)\n",
      "  File \"c:\\Users\\ouyan\\anaconda3\\lib\\site-packages\\autokeras\\blocks\\basic.py\", line 984, in build\n",
      "    bert_encoder.load_pretrained_weights()\n",
      "  File \"c:\\Users\\ouyan\\anaconda3\\lib\\site-packages\\autokeras\\keras_layers.py\", line 292, in load_pretrained_weights\n",
      "    path = keras.utils.get_file(\n",
      "  File \"c:\\Users\\ouyan\\anaconda3\\lib\\site-packages\\keras\\utils\\data_utils.py\", line 308, in get_file\n",
      "    _extract_archive(fpath, datadir, archive_format)\n",
      "  File \"c:\\Users\\ouyan\\anaconda3\\lib\\site-packages\\keras\\utils\\data_utils.py\", line 137, in _extract_archive\n",
      "    archive.extractall(path)\n",
      "  File \"c:\\Users\\ouyan\\anaconda3\\lib\\tarfile.py\", line 2045, in extractall\n",
      "    self.extract(tarinfo, path, set_attrs=not tarinfo.isdir(),\n",
      "  File \"c:\\Users\\ouyan\\anaconda3\\lib\\tarfile.py\", line 2086, in extract\n",
      "    self._extract_member(tarinfo, os.path.join(path, tarinfo.name),\n",
      "  File \"c:\\Users\\ouyan\\anaconda3\\lib\\tarfile.py\", line 2159, in _extract_member\n",
      "    self.makefile(tarinfo, targetpath)\n",
      "  File \"c:\\Users\\ouyan\\anaconda3\\lib\\tarfile.py\", line 2208, in makefile\n",
      "    copyfileobj(source, target, tarinfo.size, ReadError, bufsize)\n",
      "  File \"c:\\Users\\ouyan\\anaconda3\\lib\\tarfile.py\", line 247, in copyfileobj\n",
      "    buf = src.read(bufsize)\n",
      "  File \"c:\\Users\\ouyan\\anaconda3\\lib\\gzip.py\", line 300, in read\n",
      "    return self._buffer.read(size)\n",
      "  File \"c:\\Users\\ouyan\\anaconda3\\lib\\_compression.py\", line 68, in readinto\n",
      "    data = self.read(len(byte_view))\n",
      "  File \"c:\\Users\\ouyan\\anaconda3\\lib\\gzip.py\", line 506, in read\n",
      "    raise EOFError(\"Compressed file ended before the \"\n",
      "EOFError: Compressed file ended before the end-of-stream marker was reached\n"
     ]
    },
    {
     "name": "stdout",
     "output_type": "stream",
     "text": [
      "Invalid model 4/5\n"
     ]
    },
    {
     "name": "stderr",
     "output_type": "stream",
     "text": [
      "Traceback (most recent call last):\n",
      "  File \"c:\\Users\\ouyan\\anaconda3\\lib\\site-packages\\keras_tuner\\engine\\tuner.py\", line 158, in _try_build\n",
      "    model = self._build_hypermodel(hp)\n",
      "  File \"c:\\Users\\ouyan\\anaconda3\\lib\\site-packages\\keras_tuner\\engine\\tuner.py\", line 146, in _build_hypermodel\n",
      "    model = self.hypermodel.build(hp)\n",
      "  File \"c:\\Users\\ouyan\\anaconda3\\lib\\site-packages\\keras_tuner\\engine\\hypermodel.py\", line 111, in _build_wrapper\n",
      "    return self._build(hp, *args, **kwargs)\n",
      "  File \"c:\\Users\\ouyan\\anaconda3\\lib\\site-packages\\autokeras\\graph.py\", line 250, in build\n",
      "    outputs = block.build(hp, inputs=temp_inputs)\n",
      "  File \"c:\\Users\\ouyan\\anaconda3\\lib\\site-packages\\autokeras\\engine\\block.py\", line 38, in _build_wrapper\n",
      "    return super()._build_wrapper(hp, *args, **kwargs)\n",
      "  File \"c:\\Users\\ouyan\\anaconda3\\lib\\site-packages\\keras_tuner\\engine\\hypermodel.py\", line 111, in _build_wrapper\n",
      "    return self._build(hp, *args, **kwargs)\n",
      "  File \"c:\\Users\\ouyan\\anaconda3\\lib\\site-packages\\autokeras\\blocks\\wrapper.py\", line 159, in build\n",
      "    output_node = self._build_block(hp, output_node, block_type)\n",
      "  File \"c:\\Users\\ouyan\\anaconda3\\lib\\site-packages\\autokeras\\blocks\\wrapper.py\", line 174, in _build_block\n",
      "    output_node = basic.BertBlock().build(hp, output_node)\n",
      "  File \"c:\\Users\\ouyan\\anaconda3\\lib\\site-packages\\autokeras\\engine\\block.py\", line 38, in _build_wrapper\n",
      "    return super()._build_wrapper(hp, *args, **kwargs)\n",
      "  File \"c:\\Users\\ouyan\\anaconda3\\lib\\site-packages\\keras_tuner\\engine\\hypermodel.py\", line 111, in _build_wrapper\n",
      "    return self._build(hp, *args, **kwargs)\n",
      "  File \"c:\\Users\\ouyan\\anaconda3\\lib\\site-packages\\autokeras\\blocks\\basic.py\", line 984, in build\n",
      "    bert_encoder.load_pretrained_weights()\n",
      "  File \"c:\\Users\\ouyan\\anaconda3\\lib\\site-packages\\autokeras\\keras_layers.py\", line 292, in load_pretrained_weights\n",
      "    path = keras.utils.get_file(\n",
      "  File \"c:\\Users\\ouyan\\anaconda3\\lib\\site-packages\\keras\\utils\\data_utils.py\", line 308, in get_file\n",
      "    _extract_archive(fpath, datadir, archive_format)\n",
      "  File \"c:\\Users\\ouyan\\anaconda3\\lib\\site-packages\\keras\\utils\\data_utils.py\", line 137, in _extract_archive\n",
      "    archive.extractall(path)\n",
      "  File \"c:\\Users\\ouyan\\anaconda3\\lib\\tarfile.py\", line 2045, in extractall\n",
      "    self.extract(tarinfo, path, set_attrs=not tarinfo.isdir(),\n",
      "  File \"c:\\Users\\ouyan\\anaconda3\\lib\\tarfile.py\", line 2086, in extract\n",
      "    self._extract_member(tarinfo, os.path.join(path, tarinfo.name),\n",
      "  File \"c:\\Users\\ouyan\\anaconda3\\lib\\tarfile.py\", line 2159, in _extract_member\n",
      "    self.makefile(tarinfo, targetpath)\n",
      "  File \"c:\\Users\\ouyan\\anaconda3\\lib\\tarfile.py\", line 2208, in makefile\n",
      "    copyfileobj(source, target, tarinfo.size, ReadError, bufsize)\n",
      "  File \"c:\\Users\\ouyan\\anaconda3\\lib\\tarfile.py\", line 247, in copyfileobj\n",
      "    buf = src.read(bufsize)\n",
      "  File \"c:\\Users\\ouyan\\anaconda3\\lib\\gzip.py\", line 300, in read\n",
      "    return self._buffer.read(size)\n",
      "  File \"c:\\Users\\ouyan\\anaconda3\\lib\\_compression.py\", line 68, in readinto\n",
      "    data = self.read(len(byte_view))\n",
      "  File \"c:\\Users\\ouyan\\anaconda3\\lib\\gzip.py\", line 506, in read\n",
      "    raise EOFError(\"Compressed file ended before the \"\n",
      "EOFError: Compressed file ended before the end-of-stream marker was reached\n"
     ]
    },
    {
     "name": "stdout",
     "output_type": "stream",
     "text": [
      "Invalid model 5/5\n"
     ]
    },
    {
     "ename": "RuntimeError",
     "evalue": "Too many failed attempts to build model.",
     "output_type": "error",
     "traceback": [
      "\u001b[1;31m---------------------------------------------------------------------------\u001b[0m",
      "\u001b[1;31mEOFError\u001b[0m                                  Traceback (most recent call last)",
      "File \u001b[1;32mc:\\Users\\ouyan\\anaconda3\\lib\\site-packages\\keras_tuner\\engine\\tuner.py:158\u001b[0m, in \u001b[0;36mTuner._try_build\u001b[1;34m(self, hp)\u001b[0m\n\u001b[0;32m    157\u001b[0m \u001b[39mtry\u001b[39;00m:\n\u001b[1;32m--> 158\u001b[0m     model \u001b[39m=\u001b[39m \u001b[39mself\u001b[39;49m\u001b[39m.\u001b[39;49m_build_hypermodel(hp)\n\u001b[0;32m    159\u001b[0m \u001b[39mexcept\u001b[39;00m:\n",
      "File \u001b[1;32mc:\\Users\\ouyan\\anaconda3\\lib\\site-packages\\keras_tuner\\engine\\tuner.py:146\u001b[0m, in \u001b[0;36mTuner._build_hypermodel\u001b[1;34m(self, hp)\u001b[0m\n\u001b[0;32m    145\u001b[0m \u001b[39mwith\u001b[39;00m maybe_distribute(\u001b[39mself\u001b[39m\u001b[39m.\u001b[39mdistribution_strategy):\n\u001b[1;32m--> 146\u001b[0m     model \u001b[39m=\u001b[39m \u001b[39mself\u001b[39;49m\u001b[39m.\u001b[39;49mhypermodel\u001b[39m.\u001b[39;49mbuild(hp)\n\u001b[0;32m    147\u001b[0m     \u001b[39mself\u001b[39m\u001b[39m.\u001b[39m_override_compile_args(model)\n",
      "File \u001b[1;32mc:\\Users\\ouyan\\anaconda3\\lib\\site-packages\\keras_tuner\\engine\\hypermodel.py:111\u001b[0m, in \u001b[0;36mHyperModel._build_wrapper\u001b[1;34m(self, hp, *args, **kwargs)\u001b[0m\n\u001b[0;32m    110\u001b[0m     hp \u001b[39m=\u001b[39m hp\u001b[39m.\u001b[39mcopy()\n\u001b[1;32m--> 111\u001b[0m \u001b[39mreturn\u001b[39;00m \u001b[39mself\u001b[39m\u001b[39m.\u001b[39m_build(hp, \u001b[39m*\u001b[39margs, \u001b[39m*\u001b[39m\u001b[39m*\u001b[39mkwargs)\n",
      "File \u001b[1;32mc:\\Users\\ouyan\\anaconda3\\lib\\site-packages\\autokeras\\graph.py:250\u001b[0m, in \u001b[0;36mGraph.build\u001b[1;34m(self, hp)\u001b[0m\n\u001b[0;32m    246\u001b[0m temp_inputs \u001b[39m=\u001b[39m [\n\u001b[0;32m    247\u001b[0m     keras_nodes[\u001b[39mself\u001b[39m\u001b[39m.\u001b[39m_node_to_id[input_node]]\n\u001b[0;32m    248\u001b[0m     \u001b[39mfor\u001b[39;00m input_node \u001b[39min\u001b[39;00m block\u001b[39m.\u001b[39minputs\n\u001b[0;32m    249\u001b[0m ]\n\u001b[1;32m--> 250\u001b[0m outputs \u001b[39m=\u001b[39m block\u001b[39m.\u001b[39;49mbuild(hp, inputs\u001b[39m=\u001b[39;49mtemp_inputs)\n\u001b[0;32m    251\u001b[0m outputs \u001b[39m=\u001b[39m nest\u001b[39m.\u001b[39mflatten(outputs)\n",
      "File \u001b[1;32mc:\\Users\\ouyan\\anaconda3\\lib\\site-packages\\autokeras\\engine\\block.py:38\u001b[0m, in \u001b[0;36mBlock._build_wrapper\u001b[1;34m(self, hp, *args, **kwargs)\u001b[0m\n\u001b[0;32m     37\u001b[0m \u001b[39mwith\u001b[39;00m hp\u001b[39m.\u001b[39mname_scope(\u001b[39mself\u001b[39m\u001b[39m.\u001b[39mname):\n\u001b[1;32m---> 38\u001b[0m     \u001b[39mreturn\u001b[39;00m \u001b[39msuper\u001b[39m()\u001b[39m.\u001b[39m_build_wrapper(hp, \u001b[39m*\u001b[39margs, \u001b[39m*\u001b[39m\u001b[39m*\u001b[39mkwargs)\n",
      "File \u001b[1;32mc:\\Users\\ouyan\\anaconda3\\lib\\site-packages\\keras_tuner\\engine\\hypermodel.py:111\u001b[0m, in \u001b[0;36mHyperModel._build_wrapper\u001b[1;34m(self, hp, *args, **kwargs)\u001b[0m\n\u001b[0;32m    110\u001b[0m     hp \u001b[39m=\u001b[39m hp\u001b[39m.\u001b[39mcopy()\n\u001b[1;32m--> 111\u001b[0m \u001b[39mreturn\u001b[39;00m \u001b[39mself\u001b[39m\u001b[39m.\u001b[39m_build(hp, \u001b[39m*\u001b[39margs, \u001b[39m*\u001b[39m\u001b[39m*\u001b[39mkwargs)\n",
      "File \u001b[1;32mc:\\Users\\ouyan\\anaconda3\\lib\\site-packages\\autokeras\\blocks\\wrapper.py:159\u001b[0m, in \u001b[0;36mTextBlock.build\u001b[1;34m(self, hp, inputs)\u001b[0m\n\u001b[0;32m    158\u001b[0m     \u001b[39mwith\u001b[39;00m hp\u001b[39m.\u001b[39mconditional_scope(BLOCK_TYPE, [block_type]):\n\u001b[1;32m--> 159\u001b[0m         output_node \u001b[39m=\u001b[39m \u001b[39mself\u001b[39;49m\u001b[39m.\u001b[39;49m_build_block(hp, output_node, block_type)\n\u001b[0;32m    160\u001b[0m \u001b[39melse\u001b[39;00m:\n",
      "File \u001b[1;32mc:\\Users\\ouyan\\anaconda3\\lib\\site-packages\\autokeras\\blocks\\wrapper.py:174\u001b[0m, in \u001b[0;36mTextBlock._build_block\u001b[1;34m(self, hp, output_node, block_type)\u001b[0m\n\u001b[0;32m    173\u001b[0m \u001b[39mif\u001b[39;00m block_type \u001b[39m==\u001b[39m BERT:\n\u001b[1;32m--> 174\u001b[0m     output_node \u001b[39m=\u001b[39m basic\u001b[39m.\u001b[39;49mBertBlock()\u001b[39m.\u001b[39;49mbuild(hp, output_node)\n\u001b[0;32m    175\u001b[0m \u001b[39melse\u001b[39;00m:\n",
      "File \u001b[1;32mc:\\Users\\ouyan\\anaconda3\\lib\\site-packages\\autokeras\\engine\\block.py:38\u001b[0m, in \u001b[0;36mBlock._build_wrapper\u001b[1;34m(self, hp, *args, **kwargs)\u001b[0m\n\u001b[0;32m     37\u001b[0m \u001b[39mwith\u001b[39;00m hp\u001b[39m.\u001b[39mname_scope(\u001b[39mself\u001b[39m\u001b[39m.\u001b[39mname):\n\u001b[1;32m---> 38\u001b[0m     \u001b[39mreturn\u001b[39;00m \u001b[39msuper\u001b[39m()\u001b[39m.\u001b[39m_build_wrapper(hp, \u001b[39m*\u001b[39margs, \u001b[39m*\u001b[39m\u001b[39m*\u001b[39mkwargs)\n",
      "File \u001b[1;32mc:\\Users\\ouyan\\anaconda3\\lib\\site-packages\\keras_tuner\\engine\\hypermodel.py:111\u001b[0m, in \u001b[0;36mHyperModel._build_wrapper\u001b[1;34m(self, hp, *args, **kwargs)\u001b[0m\n\u001b[0;32m    110\u001b[0m     hp \u001b[39m=\u001b[39m hp\u001b[39m.\u001b[39mcopy()\n\u001b[1;32m--> 111\u001b[0m \u001b[39mreturn\u001b[39;00m \u001b[39mself\u001b[39m\u001b[39m.\u001b[39m_build(hp, \u001b[39m*\u001b[39margs, \u001b[39m*\u001b[39m\u001b[39m*\u001b[39mkwargs)\n",
      "File \u001b[1;32mc:\\Users\\ouyan\\anaconda3\\lib\\site-packages\\autokeras\\blocks\\basic.py:984\u001b[0m, in \u001b[0;36mBertBlock.build\u001b[1;34m(self, hp, inputs)\u001b[0m\n\u001b[0;32m    983\u001b[0m output_node \u001b[39m=\u001b[39m bert_encoder(output_node)\n\u001b[1;32m--> 984\u001b[0m bert_encoder\u001b[39m.\u001b[39;49mload_pretrained_weights()\n\u001b[0;32m    986\u001b[0m \u001b[39mreturn\u001b[39;00m output_node\n",
      "File \u001b[1;32mc:\\Users\\ouyan\\anaconda3\\lib\\site-packages\\autokeras\\keras_layers.py:292\u001b[0m, in \u001b[0;36mBertEncoder.load_pretrained_weights\u001b[1;34m(self)\u001b[0m\n\u001b[0;32m    291\u001b[0m \u001b[39mdef\u001b[39;00m \u001b[39mload_pretrained_weights\u001b[39m(\u001b[39mself\u001b[39m):\n\u001b[1;32m--> 292\u001b[0m     path \u001b[39m=\u001b[39m keras\u001b[39m.\u001b[39;49mutils\u001b[39m.\u001b[39;49mget_file(\n\u001b[0;32m    293\u001b[0m         \u001b[39m\"\u001b[39;49m\u001b[39mbert_checkpoint\u001b[39;49m\u001b[39m\"\u001b[39;49m, constants\u001b[39m.\u001b[39;49mBERT_CHECKPOINT_PATH, extract\u001b[39m=\u001b[39;49m\u001b[39mTrue\u001b[39;49;00m\n\u001b[0;32m    294\u001b[0m     )\n\u001b[0;32m    295\u001b[0m     path \u001b[39m=\u001b[39m os\u001b[39m.\u001b[39mpath\u001b[39m.\u001b[39mjoin(\n\u001b[0;32m    296\u001b[0m         os\u001b[39m.\u001b[39mpath\u001b[39m.\u001b[39mabspath(os\u001b[39m.\u001b[39mpath\u001b[39m.\u001b[39mjoin(path, os\u001b[39m.\u001b[39mpardir)), \u001b[39m\"\u001b[39m\u001b[39mbert\u001b[39m\u001b[39m\"\u001b[39m, \u001b[39m\"\u001b[39m\u001b[39mbert_ckpt-1\u001b[39m\u001b[39m\"\u001b[39m\n\u001b[0;32m    297\u001b[0m     )\n",
      "File \u001b[1;32mc:\\Users\\ouyan\\anaconda3\\lib\\site-packages\\keras\\utils\\data_utils.py:308\u001b[0m, in \u001b[0;36mget_file\u001b[1;34m(fname, origin, untar, md5_hash, file_hash, cache_subdir, hash_algorithm, extract, archive_format, cache_dir)\u001b[0m\n\u001b[0;32m    307\u001b[0m \u001b[39mif\u001b[39;00m extract:\n\u001b[1;32m--> 308\u001b[0m   _extract_archive(fpath, datadir, archive_format)\n\u001b[0;32m    310\u001b[0m \u001b[39mreturn\u001b[39;00m fpath\n",
      "File \u001b[1;32mc:\\Users\\ouyan\\anaconda3\\lib\\site-packages\\keras\\utils\\data_utils.py:137\u001b[0m, in \u001b[0;36m_extract_archive\u001b[1;34m(file_path, path, archive_format)\u001b[0m\n\u001b[0;32m    136\u001b[0m \u001b[39mtry\u001b[39;00m:\n\u001b[1;32m--> 137\u001b[0m   archive\u001b[39m.\u001b[39;49mextractall(path)\n\u001b[0;32m    138\u001b[0m \u001b[39mexcept\u001b[39;00m (tarfile\u001b[39m.\u001b[39mTarError, \u001b[39mRuntimeError\u001b[39;00m, \u001b[39mKeyboardInterrupt\u001b[39;00m):\n",
      "File \u001b[1;32mc:\\Users\\ouyan\\anaconda3\\lib\\tarfile.py:2045\u001b[0m, in \u001b[0;36mTarFile.extractall\u001b[1;34m(self, path, members, numeric_owner)\u001b[0m\n\u001b[0;32m   2044\u001b[0m     \u001b[39m# Do not set_attrs directories, as we will do that further down\u001b[39;00m\n\u001b[1;32m-> 2045\u001b[0m     \u001b[39mself\u001b[39;49m\u001b[39m.\u001b[39;49mextract(tarinfo, path, set_attrs\u001b[39m=\u001b[39;49m\u001b[39mnot\u001b[39;49;00m tarinfo\u001b[39m.\u001b[39;49misdir(),\n\u001b[0;32m   2046\u001b[0m                  numeric_owner\u001b[39m=\u001b[39;49mnumeric_owner)\n\u001b[0;32m   2048\u001b[0m \u001b[39m# Reverse sort directories.\u001b[39;00m\n",
      "File \u001b[1;32mc:\\Users\\ouyan\\anaconda3\\lib\\tarfile.py:2086\u001b[0m, in \u001b[0;36mTarFile.extract\u001b[1;34m(self, member, path, set_attrs, numeric_owner)\u001b[0m\n\u001b[0;32m   2085\u001b[0m \u001b[39mtry\u001b[39;00m:\n\u001b[1;32m-> 2086\u001b[0m     \u001b[39mself\u001b[39;49m\u001b[39m.\u001b[39;49m_extract_member(tarinfo, os\u001b[39m.\u001b[39;49mpath\u001b[39m.\u001b[39;49mjoin(path, tarinfo\u001b[39m.\u001b[39;49mname),\n\u001b[0;32m   2087\u001b[0m                          set_attrs\u001b[39m=\u001b[39;49mset_attrs,\n\u001b[0;32m   2088\u001b[0m                          numeric_owner\u001b[39m=\u001b[39;49mnumeric_owner)\n\u001b[0;32m   2089\u001b[0m \u001b[39mexcept\u001b[39;00m \u001b[39mOSError\u001b[39;00m \u001b[39mas\u001b[39;00m e:\n",
      "File \u001b[1;32mc:\\Users\\ouyan\\anaconda3\\lib\\tarfile.py:2159\u001b[0m, in \u001b[0;36mTarFile._extract_member\u001b[1;34m(self, tarinfo, targetpath, set_attrs, numeric_owner)\u001b[0m\n\u001b[0;32m   2158\u001b[0m \u001b[39mif\u001b[39;00m tarinfo\u001b[39m.\u001b[39misreg():\n\u001b[1;32m-> 2159\u001b[0m     \u001b[39mself\u001b[39;49m\u001b[39m.\u001b[39;49mmakefile(tarinfo, targetpath)\n\u001b[0;32m   2160\u001b[0m \u001b[39melif\u001b[39;00m tarinfo\u001b[39m.\u001b[39misdir():\n",
      "File \u001b[1;32mc:\\Users\\ouyan\\anaconda3\\lib\\tarfile.py:2208\u001b[0m, in \u001b[0;36mTarFile.makefile\u001b[1;34m(self, tarinfo, targetpath)\u001b[0m\n\u001b[0;32m   2207\u001b[0m \u001b[39melse\u001b[39;00m:\n\u001b[1;32m-> 2208\u001b[0m     copyfileobj(source, target, tarinfo\u001b[39m.\u001b[39;49msize, ReadError, bufsize)\n",
      "File \u001b[1;32mc:\\Users\\ouyan\\anaconda3\\lib\\tarfile.py:247\u001b[0m, in \u001b[0;36mcopyfileobj\u001b[1;34m(src, dst, length, exception, bufsize)\u001b[0m\n\u001b[0;32m    246\u001b[0m \u001b[39mfor\u001b[39;00m b \u001b[39min\u001b[39;00m \u001b[39mrange\u001b[39m(blocks):\n\u001b[1;32m--> 247\u001b[0m     buf \u001b[39m=\u001b[39m src\u001b[39m.\u001b[39;49mread(bufsize)\n\u001b[0;32m    248\u001b[0m     \u001b[39mif\u001b[39;00m \u001b[39mlen\u001b[39m(buf) \u001b[39m<\u001b[39m bufsize:\n",
      "File \u001b[1;32mc:\\Users\\ouyan\\anaconda3\\lib\\gzip.py:300\u001b[0m, in \u001b[0;36mGzipFile.read\u001b[1;34m(self, size)\u001b[0m\n\u001b[0;32m    299\u001b[0m     \u001b[39mraise\u001b[39;00m \u001b[39mOSError\u001b[39;00m(errno\u001b[39m.\u001b[39mEBADF, \u001b[39m\"\u001b[39m\u001b[39mread() on write-only GzipFile object\u001b[39m\u001b[39m\"\u001b[39m)\n\u001b[1;32m--> 300\u001b[0m \u001b[39mreturn\u001b[39;00m \u001b[39mself\u001b[39;49m\u001b[39m.\u001b[39;49m_buffer\u001b[39m.\u001b[39;49mread(size)\n",
      "File \u001b[1;32mc:\\Users\\ouyan\\anaconda3\\lib\\_compression.py:68\u001b[0m, in \u001b[0;36mDecompressReader.readinto\u001b[1;34m(self, b)\u001b[0m\n\u001b[0;32m     67\u001b[0m \u001b[39mwith\u001b[39;00m \u001b[39mmemoryview\u001b[39m(b) \u001b[39mas\u001b[39;00m view, view\u001b[39m.\u001b[39mcast(\u001b[39m\"\u001b[39m\u001b[39mB\u001b[39m\u001b[39m\"\u001b[39m) \u001b[39mas\u001b[39;00m byte_view:\n\u001b[1;32m---> 68\u001b[0m     data \u001b[39m=\u001b[39m \u001b[39mself\u001b[39;49m\u001b[39m.\u001b[39;49mread(\u001b[39mlen\u001b[39;49m(byte_view))\n\u001b[0;32m     69\u001b[0m     byte_view[:\u001b[39mlen\u001b[39m(data)] \u001b[39m=\u001b[39m data\n",
      "File \u001b[1;32mc:\\Users\\ouyan\\anaconda3\\lib\\gzip.py:506\u001b[0m, in \u001b[0;36m_GzipReader.read\u001b[1;34m(self, size)\u001b[0m\n\u001b[0;32m    505\u001b[0m     \u001b[39mif\u001b[39;00m buf \u001b[39m==\u001b[39m \u001b[39mb\u001b[39m\u001b[39m\"\u001b[39m\u001b[39m\"\u001b[39m:\n\u001b[1;32m--> 506\u001b[0m         \u001b[39mraise\u001b[39;00m \u001b[39mEOFError\u001b[39;00m(\u001b[39m\"\u001b[39m\u001b[39mCompressed file ended before the \u001b[39m\u001b[39m\"\u001b[39m\n\u001b[0;32m    507\u001b[0m                        \u001b[39m\"\u001b[39m\u001b[39mend-of-stream marker was reached\u001b[39m\u001b[39m\"\u001b[39m)\n\u001b[0;32m    509\u001b[0m \u001b[39mself\u001b[39m\u001b[39m.\u001b[39m_add_read_data( uncompress )\n",
      "\u001b[1;31mEOFError\u001b[0m: Compressed file ended before the end-of-stream marker was reached",
      "\nDuring handling of the above exception, another exception occurred:\n",
      "\u001b[1;31mRuntimeError\u001b[0m                              Traceback (most recent call last)",
      "\u001b[1;32mc:\\Users\\ouyan\\Desktop\\Code\\FakeNews\\Machine Leaning\\AutoKereas.ipynb Cell 12'\u001b[0m in \u001b[0;36m<cell line: 7>\u001b[1;34m()\u001b[0m\n\u001b[0;32m      <a href='vscode-notebook-cell:/c%3A/Users/ouyan/Desktop/Code/FakeNews/Machine%20Leaning/AutoKereas.ipynb#ch0000011?line=1'>2</a>\u001b[0m clf \u001b[39m=\u001b[39m ak\u001b[39m.\u001b[39mTextClassifier(\n\u001b[0;32m      <a href='vscode-notebook-cell:/c%3A/Users/ouyan/Desktop/Code/FakeNews/Machine%20Leaning/AutoKereas.ipynb#ch0000011?line=2'>3</a>\u001b[0m     max_trials\u001b[39m=\u001b[39m\u001b[39m100\u001b[39m\n\u001b[0;32m      <a href='vscode-notebook-cell:/c%3A/Users/ouyan/Desktop/Code/FakeNews/Machine%20Leaning/AutoKereas.ipynb#ch0000011?line=3'>4</a>\u001b[0m )  \u001b[39m# It only tries 1 model as a quick demo.\u001b[39;00m\n\u001b[0;32m      <a href='vscode-notebook-cell:/c%3A/Users/ouyan/Desktop/Code/FakeNews/Machine%20Leaning/AutoKereas.ipynb#ch0000011?line=5'>6</a>\u001b[0m \u001b[39m# Feed the text classifier with training data.\u001b[39;00m\n\u001b[1;32m----> <a href='vscode-notebook-cell:/c%3A/Users/ouyan/Desktop/Code/FakeNews/Machine%20Leaning/AutoKereas.ipynb#ch0000011?line=6'>7</a>\u001b[0m clf\u001b[39m.\u001b[39;49mfit(x_train, y_train, epochs\u001b[39m=\u001b[39;49m\u001b[39m10\u001b[39;49m)\n",
      "File \u001b[1;32mc:\\Users\\ouyan\\anaconda3\\lib\\site-packages\\autokeras\\tasks\\text.py:160\u001b[0m, in \u001b[0;36mTextClassifier.fit\u001b[1;34m(self, x, y, epochs, callbacks, validation_split, validation_data, **kwargs)\u001b[0m\n\u001b[0;32m    103\u001b[0m \u001b[39mdef\u001b[39;00m \u001b[39mfit\u001b[39m(\n\u001b[0;32m    104\u001b[0m     \u001b[39mself\u001b[39m,\n\u001b[0;32m    105\u001b[0m     x\u001b[39m=\u001b[39m\u001b[39mNone\u001b[39;00m,\n\u001b[1;32m   (...)\u001b[0m\n\u001b[0;32m    111\u001b[0m     \u001b[39m*\u001b[39m\u001b[39m*\u001b[39mkwargs\n\u001b[0;32m    112\u001b[0m ):\n\u001b[0;32m    113\u001b[0m     \u001b[39m\"\"\"Search for the best model and hyperparameters for the AutoModel.\u001b[39;00m\n\u001b[0;32m    114\u001b[0m \n\u001b[0;32m    115\u001b[0m \u001b[39m    It will search for the best model based on the performances on\u001b[39;00m\n\u001b[1;32m   (...)\u001b[0m\n\u001b[0;32m    158\u001b[0m \u001b[39m            validation loss values and validation metrics values (if applicable).\u001b[39;00m\n\u001b[0;32m    159\u001b[0m \u001b[39m    \"\"\"\u001b[39;00m\n\u001b[1;32m--> 160\u001b[0m     history \u001b[39m=\u001b[39m \u001b[39msuper\u001b[39m()\u001b[39m.\u001b[39mfit(\n\u001b[0;32m    161\u001b[0m         x\u001b[39m=\u001b[39mx,\n\u001b[0;32m    162\u001b[0m         y\u001b[39m=\u001b[39my,\n\u001b[0;32m    163\u001b[0m         epochs\u001b[39m=\u001b[39mepochs,\n\u001b[0;32m    164\u001b[0m         callbacks\u001b[39m=\u001b[39mcallbacks,\n\u001b[0;32m    165\u001b[0m         validation_split\u001b[39m=\u001b[39mvalidation_split,\n\u001b[0;32m    166\u001b[0m         validation_data\u001b[39m=\u001b[39mvalidation_data,\n\u001b[0;32m    167\u001b[0m         \u001b[39m*\u001b[39m\u001b[39m*\u001b[39mkwargs\n\u001b[0;32m    168\u001b[0m     )\n\u001b[0;32m    169\u001b[0m     \u001b[39mreturn\u001b[39;00m history\n",
      "File \u001b[1;32mc:\\Users\\ouyan\\anaconda3\\lib\\site-packages\\autokeras\\auto_model.py:292\u001b[0m, in \u001b[0;36mAutoModel.fit\u001b[1;34m(self, x, y, batch_size, epochs, callbacks, validation_split, validation_data, verbose, **kwargs)\u001b[0m\n\u001b[0;32m    287\u001b[0m \u001b[39mif\u001b[39;00m validation_data \u001b[39mis\u001b[39;00m \u001b[39mNone\u001b[39;00m \u001b[39mand\u001b[39;00m validation_split:\n\u001b[0;32m    288\u001b[0m     dataset, validation_data \u001b[39m=\u001b[39m data_utils\u001b[39m.\u001b[39msplit_dataset(\n\u001b[0;32m    289\u001b[0m         dataset, validation_split\n\u001b[0;32m    290\u001b[0m     )\n\u001b[1;32m--> 292\u001b[0m history \u001b[39m=\u001b[39m \u001b[39mself\u001b[39m\u001b[39m.\u001b[39mtuner\u001b[39m.\u001b[39msearch(\n\u001b[0;32m    293\u001b[0m     x\u001b[39m=\u001b[39mdataset,\n\u001b[0;32m    294\u001b[0m     epochs\u001b[39m=\u001b[39mepochs,\n\u001b[0;32m    295\u001b[0m     callbacks\u001b[39m=\u001b[39mcallbacks,\n\u001b[0;32m    296\u001b[0m     validation_data\u001b[39m=\u001b[39mvalidation_data,\n\u001b[0;32m    297\u001b[0m     validation_split\u001b[39m=\u001b[39mvalidation_split,\n\u001b[0;32m    298\u001b[0m     verbose\u001b[39m=\u001b[39mverbose,\n\u001b[0;32m    299\u001b[0m     \u001b[39m*\u001b[39m\u001b[39m*\u001b[39mkwargs\n\u001b[0;32m    300\u001b[0m )\n\u001b[0;32m    302\u001b[0m \u001b[39mreturn\u001b[39;00m history\n",
      "File \u001b[1;32mc:\\Users\\ouyan\\anaconda3\\lib\\site-packages\\autokeras\\engine\\tuner.py:193\u001b[0m, in \u001b[0;36mAutoTuner.search\u001b[1;34m(self, epochs, callbacks, validation_split, verbose, **fit_kwargs)\u001b[0m\n\u001b[0;32m    191\u001b[0m \u001b[39mself\u001b[39m\u001b[39m.\u001b[39m_try_build(hp)\n\u001b[0;32m    192\u001b[0m \u001b[39mself\u001b[39m\u001b[39m.\u001b[39moracle\u001b[39m.\u001b[39mupdate_space(hp)\n\u001b[1;32m--> 193\u001b[0m \u001b[39msuper\u001b[39m()\u001b[39m.\u001b[39msearch(\n\u001b[0;32m    194\u001b[0m     epochs\u001b[39m=\u001b[39mepochs, callbacks\u001b[39m=\u001b[39mnew_callbacks, verbose\u001b[39m=\u001b[39mverbose, \u001b[39m*\u001b[39m\u001b[39m*\u001b[39mfit_kwargs\n\u001b[0;32m    195\u001b[0m )\n\u001b[0;32m    197\u001b[0m \u001b[39m# Train the best model use validation data.\u001b[39;00m\n\u001b[0;32m    198\u001b[0m \u001b[39m# Train the best model with enough number of epochs.\u001b[39;00m\n\u001b[0;32m    199\u001b[0m \u001b[39mif\u001b[39;00m validation_split \u001b[39m>\u001b[39m \u001b[39m0\u001b[39m \u001b[39mor\u001b[39;00m early_stopping_inserted:\n",
      "File \u001b[1;32mc:\\Users\\ouyan\\anaconda3\\lib\\site-packages\\keras_tuner\\engine\\base_tuner.py:179\u001b[0m, in \u001b[0;36mBaseTuner.search\u001b[1;34m(self, *fit_args, **fit_kwargs)\u001b[0m\n\u001b[0;32m    176\u001b[0m     \u001b[39mcontinue\u001b[39;00m\n\u001b[0;32m    178\u001b[0m \u001b[39mself\u001b[39m\u001b[39m.\u001b[39mon_trial_begin(trial)\n\u001b[1;32m--> 179\u001b[0m results \u001b[39m=\u001b[39m \u001b[39mself\u001b[39m\u001b[39m.\u001b[39mrun_trial(trial, \u001b[39m*\u001b[39mfit_args, \u001b[39m*\u001b[39m\u001b[39m*\u001b[39mfit_kwargs)\n\u001b[0;32m    180\u001b[0m \u001b[39m# `results` is None indicates user updated oracle in `run_trial()`.\u001b[39;00m\n\u001b[0;32m    181\u001b[0m \u001b[39mif\u001b[39;00m results \u001b[39mis\u001b[39;00m \u001b[39mNone\u001b[39;00m:\n",
      "File \u001b[1;32mc:\\Users\\ouyan\\anaconda3\\lib\\site-packages\\keras_tuner\\engine\\tuner.py:294\u001b[0m, in \u001b[0;36mTuner.run_trial\u001b[1;34m(self, trial, *args, **kwargs)\u001b[0m\n\u001b[0;32m    292\u001b[0m     callbacks\u001b[39m.\u001b[39mappend(model_checkpoint)\n\u001b[0;32m    293\u001b[0m     copied_kwargs[\u001b[39m\"\u001b[39m\u001b[39mcallbacks\u001b[39m\u001b[39m\"\u001b[39m] \u001b[39m=\u001b[39m callbacks\n\u001b[1;32m--> 294\u001b[0m     obj_value \u001b[39m=\u001b[39m \u001b[39mself\u001b[39m\u001b[39m.\u001b[39m_build_and_fit_model(trial, \u001b[39m*\u001b[39margs, \u001b[39m*\u001b[39m\u001b[39m*\u001b[39mcopied_kwargs)\n\u001b[0;32m    296\u001b[0m     histories\u001b[39m.\u001b[39mappend(obj_value)\n\u001b[0;32m    297\u001b[0m \u001b[39mreturn\u001b[39;00m histories\n",
      "File \u001b[1;32mc:\\Users\\ouyan\\anaconda3\\lib\\site-packages\\autokeras\\engine\\tuner.py:91\u001b[0m, in \u001b[0;36mAutoTuner._build_and_fit_model\u001b[1;34m(self, trial, *args, **kwargs)\u001b[0m\n\u001b[0;32m     90\u001b[0m \u001b[39mdef\u001b[39;00m \u001b[39m_build_and_fit_model\u001b[39m(\u001b[39mself\u001b[39m, trial, \u001b[39m*\u001b[39margs, \u001b[39m*\u001b[39m\u001b[39m*\u001b[39mkwargs):\n\u001b[1;32m---> 91\u001b[0m     model \u001b[39m=\u001b[39m \u001b[39mself\u001b[39;49m\u001b[39m.\u001b[39;49m_try_build(trial\u001b[39m.\u001b[39;49mhyperparameters)\n\u001b[0;32m     92\u001b[0m     (\n\u001b[0;32m     93\u001b[0m         pipeline,\n\u001b[0;32m     94\u001b[0m         kwargs[\u001b[39m\"\u001b[39m\u001b[39mx\u001b[39m\u001b[39m\"\u001b[39m],\n\u001b[0;32m     95\u001b[0m         kwargs[\u001b[39m\"\u001b[39m\u001b[39mvalidation_data\u001b[39m\u001b[39m\"\u001b[39m],\n\u001b[0;32m     96\u001b[0m     ) \u001b[39m=\u001b[39m \u001b[39mself\u001b[39m\u001b[39m.\u001b[39m_prepare_model_build(trial\u001b[39m.\u001b[39mhyperparameters, \u001b[39m*\u001b[39m\u001b[39m*\u001b[39mkwargs)\n\u001b[0;32m     97\u001b[0m     pipeline\u001b[39m.\u001b[39msave(\u001b[39mself\u001b[39m\u001b[39m.\u001b[39m_pipeline_path(trial\u001b[39m.\u001b[39mtrial_id))\n",
      "File \u001b[1;32mc:\\Users\\ouyan\\anaconda3\\lib\\site-packages\\keras_tuner\\engine\\tuner.py:166\u001b[0m, in \u001b[0;36mTuner._try_build\u001b[1;34m(self, hp)\u001b[0m\n\u001b[0;32m    163\u001b[0m     \u001b[39mprint\u001b[39m(\u001b[39m\"\u001b[39m\u001b[39mInvalid model \u001b[39m\u001b[39m%s\u001b[39;00m\u001b[39m/\u001b[39m\u001b[39m%s\u001b[39;00m\u001b[39m\"\u001b[39m \u001b[39m%\u001b[39m (i, MAX_FAIL_STREAK))\n\u001b[0;32m    165\u001b[0m     \u001b[39mif\u001b[39;00m i \u001b[39m==\u001b[39m MAX_FAIL_STREAK:\n\u001b[1;32m--> 166\u001b[0m         \u001b[39mraise\u001b[39;00m \u001b[39mRuntimeError\u001b[39;00m(\u001b[39m\"\u001b[39m\u001b[39mToo many failed attempts to build model.\u001b[39m\u001b[39m\"\u001b[39m)\n\u001b[0;32m    167\u001b[0m     \u001b[39mcontinue\u001b[39;00m\n\u001b[0;32m    169\u001b[0m \u001b[39m# Stop if `build()` does not return a valid model.\u001b[39;00m\n",
      "\u001b[1;31mRuntimeError\u001b[0m: Too many failed attempts to build model."
     ]
    }
   ],
   "source": [
    "# Initialize the text classifier.\n",
    "clf = ak.TextClassifier(\n",
    "    max_trials=100\n",
    ")  # It only tries 1 model as a quick demo.\n",
    "\n",
    "# Feed the text classifier with training data.\n",
    "clf.fit(x_train, y_train, epochs=10)\n"
   ]
  },
  {
   "cell_type": "code",
   "execution_count": 19,
   "metadata": {},
   "outputs": [
    {
     "ename": "NotFoundError",
     "evalue": "NewRandomAccessFile failed to Create/Open: .\\text_classifier\\best_pipeline : The system cannot find the file specified.\r\n; No such file or directory",
     "output_type": "error",
     "traceback": [
      "\u001b[1;31m---------------------------------------------------------------------------\u001b[0m",
      "\u001b[1;31mNotFoundError\u001b[0m                             Traceback (most recent call last)",
      "\u001b[1;32mc:\\Users\\ouyan\\Desktop\\Code\\FakeNews\\Machine Leaning\\AutoKereas.ipynb Cell 13'\u001b[0m in \u001b[0;36m<cell line: 2>\u001b[1;34m()\u001b[0m\n\u001b[0;32m      <a href='vscode-notebook-cell:/c%3A/Users/ouyan/Desktop/Code/FakeNews/Machine%20Leaning/AutoKereas.ipynb#ch0000013?line=0'>1</a>\u001b[0m \u001b[39m# Evaluate the best model with testing data.\u001b[39;00m\n\u001b[1;32m----> <a href='vscode-notebook-cell:/c%3A/Users/ouyan/Desktop/Code/FakeNews/Machine%20Leaning/AutoKereas.ipynb#ch0000013?line=1'>2</a>\u001b[0m \u001b[39mprint\u001b[39m(clf\u001b[39m.\u001b[39;49mevaluate(x_test, y_test))\n",
      "File \u001b[1;32mc:\\Users\\ouyan\\anaconda3\\lib\\site-packages\\autokeras\\auto_model.py:489\u001b[0m, in \u001b[0;36mAutoModel.evaluate\u001b[1;34m(self, x, y, batch_size, verbose, **kwargs)\u001b[0m\n\u001b[0;32m    487\u001b[0m y \u001b[39m=\u001b[39m \u001b[39mself\u001b[39m\u001b[39m.\u001b[39m_adapt(y, \u001b[39mself\u001b[39m\u001b[39m.\u001b[39m_heads, batch_size)\n\u001b[0;32m    488\u001b[0m dataset \u001b[39m=\u001b[39m tf\u001b[39m.\u001b[39mdata\u001b[39m.\u001b[39mDataset\u001b[39m.\u001b[39mzip((x, y))\n\u001b[1;32m--> 489\u001b[0m pipeline \u001b[39m=\u001b[39m \u001b[39mself\u001b[39;49m\u001b[39m.\u001b[39;49mtuner\u001b[39m.\u001b[39;49mget_best_pipeline()\n\u001b[0;32m    490\u001b[0m dataset \u001b[39m=\u001b[39m pipeline\u001b[39m.\u001b[39mtransform(dataset)\n\u001b[0;32m    491\u001b[0m model \u001b[39m=\u001b[39m \u001b[39mself\u001b[39m\u001b[39m.\u001b[39mtuner\u001b[39m.\u001b[39mget_best_model()\n",
      "File \u001b[1;32mc:\\Users\\ouyan\\anaconda3\\lib\\site-packages\\autokeras\\engine\\tuner.py:67\u001b[0m, in \u001b[0;36mAutoTuner.get_best_pipeline\u001b[1;34m(self)\u001b[0m\n\u001b[0;32m     66\u001b[0m \u001b[39mdef\u001b[39;00m \u001b[39mget_best_pipeline\u001b[39m(\u001b[39mself\u001b[39m):\n\u001b[1;32m---> 67\u001b[0m     \u001b[39mreturn\u001b[39;00m pipeline_module\u001b[39m.\u001b[39;49mload_pipeline(\u001b[39mself\u001b[39;49m\u001b[39m.\u001b[39;49mbest_pipeline_path)\n",
      "File \u001b[1;32mc:\\Users\\ouyan\\anaconda3\\lib\\site-packages\\autokeras\\pipeline.py:77\u001b[0m, in \u001b[0;36mload_pipeline\u001b[1;34m(filepath, custom_objects)\u001b[0m\n\u001b[0;32m     75\u001b[0m     custom_objects \u001b[39m=\u001b[39m {}\n\u001b[0;32m     76\u001b[0m \u001b[39mwith\u001b[39;00m keras\u001b[39m.\u001b[39mutils\u001b[39m.\u001b[39mcustom_object_scope(custom_objects):\n\u001b[1;32m---> 77\u001b[0m     \u001b[39mreturn\u001b[39;00m Pipeline\u001b[39m.\u001b[39mfrom_config(io_utils\u001b[39m.\u001b[39;49mload_json(filepath))\n",
      "File \u001b[1;32mc:\\Users\\ouyan\\anaconda3\\lib\\site-packages\\autokeras\\utils\\io_utils.py:35\u001b[0m, in \u001b[0;36mload_json\u001b[1;34m(path)\u001b[0m\n\u001b[0;32m     33\u001b[0m \u001b[39mdef\u001b[39;00m \u001b[39mload_json\u001b[39m(path):\n\u001b[0;32m     34\u001b[0m     \u001b[39mwith\u001b[39;00m tf\u001b[39m.\u001b[39mio\u001b[39m.\u001b[39mgfile\u001b[39m.\u001b[39mGFile(path, \u001b[39m\"\u001b[39m\u001b[39mr\u001b[39m\u001b[39m\"\u001b[39m) \u001b[39mas\u001b[39;00m f:\n\u001b[1;32m---> 35\u001b[0m         obj \u001b[39m=\u001b[39m f\u001b[39m.\u001b[39;49mread()\n\u001b[0;32m     36\u001b[0m     \u001b[39mreturn\u001b[39;00m json\u001b[39m.\u001b[39mloads(obj)\n",
      "File \u001b[1;32mc:\\Users\\ouyan\\anaconda3\\lib\\site-packages\\tensorflow\\python\\lib\\io\\file_io.py:114\u001b[0m, in \u001b[0;36mFileIO.read\u001b[1;34m(self, n)\u001b[0m\n\u001b[0;32m    102\u001b[0m \u001b[39mdef\u001b[39;00m \u001b[39mread\u001b[39m(\u001b[39mself\u001b[39m, n\u001b[39m=\u001b[39m\u001b[39m-\u001b[39m\u001b[39m1\u001b[39m):\n\u001b[0;32m    103\u001b[0m   \u001b[39m\"\"\"Returns the contents of a file as a string.\u001b[39;00m\n\u001b[0;32m    104\u001b[0m \n\u001b[0;32m    105\u001b[0m \u001b[39m  Starts reading from current position in file.\u001b[39;00m\n\u001b[1;32m   (...)\u001b[0m\n\u001b[0;32m    112\u001b[0m \u001b[39m    string if in string (regular) mode.\u001b[39;00m\n\u001b[0;32m    113\u001b[0m \u001b[39m  \"\"\"\u001b[39;00m\n\u001b[1;32m--> 114\u001b[0m   \u001b[39mself\u001b[39;49m\u001b[39m.\u001b[39;49m_preread_check()\n\u001b[0;32m    115\u001b[0m   \u001b[39mif\u001b[39;00m n \u001b[39m==\u001b[39m \u001b[39m-\u001b[39m\u001b[39m1\u001b[39m:\n\u001b[0;32m    116\u001b[0m     length \u001b[39m=\u001b[39m \u001b[39mself\u001b[39m\u001b[39m.\u001b[39msize() \u001b[39m-\u001b[39m \u001b[39mself\u001b[39m\u001b[39m.\u001b[39mtell()\n",
      "File \u001b[1;32mc:\\Users\\ouyan\\anaconda3\\lib\\site-packages\\tensorflow\\python\\lib\\io\\file_io.py:76\u001b[0m, in \u001b[0;36mFileIO._preread_check\u001b[1;34m(self)\u001b[0m\n\u001b[0;32m     73\u001b[0m \u001b[39mif\u001b[39;00m \u001b[39mnot\u001b[39;00m \u001b[39mself\u001b[39m\u001b[39m.\u001b[39m_read_check_passed:\n\u001b[0;32m     74\u001b[0m   \u001b[39mraise\u001b[39;00m errors\u001b[39m.\u001b[39mPermissionDeniedError(\u001b[39mNone\u001b[39;00m, \u001b[39mNone\u001b[39;00m,\n\u001b[0;32m     75\u001b[0m                                      \u001b[39m\"\u001b[39m\u001b[39mFile isn\u001b[39m\u001b[39m'\u001b[39m\u001b[39mt open for reading\u001b[39m\u001b[39m\"\u001b[39m)\n\u001b[1;32m---> 76\u001b[0m \u001b[39mself\u001b[39m\u001b[39m.\u001b[39m_read_buf \u001b[39m=\u001b[39m _pywrap_file_io\u001b[39m.\u001b[39;49mBufferedInputStream(\n\u001b[0;32m     77\u001b[0m     compat\u001b[39m.\u001b[39;49mpath_to_str(\u001b[39mself\u001b[39;49m\u001b[39m.\u001b[39;49m__name), \u001b[39m1024\u001b[39;49m \u001b[39m*\u001b[39;49m \u001b[39m512\u001b[39;49m)\n",
      "\u001b[1;31mNotFoundError\u001b[0m: NewRandomAccessFile failed to Create/Open: .\\text_classifier\\best_pipeline : The system cannot find the file specified.\r\n; No such file or directory"
     ]
    }
   ],
   "source": [
    "# Evaluate the best model with testing data.\n",
    "print(clf.evaluate(x_test, y_test))"
   ]
  },
  {
   "cell_type": "code",
   "execution_count": 20,
   "metadata": {},
   "outputs": [
    {
     "ename": "NotFoundError",
     "evalue": "NewRandomAccessFile failed to Create/Open: .\\text_classifier\\best_pipeline : The system cannot find the file specified.\r\n; No such file or directory",
     "output_type": "error",
     "traceback": [
      "\u001b[1;31m---------------------------------------------------------------------------\u001b[0m",
      "\u001b[1;31mNotFoundError\u001b[0m                             Traceback (most recent call last)",
      "\u001b[1;32mc:\\Users\\ouyan\\Desktop\\Code\\FakeNews\\Machine Leaning\\AutoKereas.ipynb Cell 14'\u001b[0m in \u001b[0;36m<cell line: 2>\u001b[1;34m()\u001b[0m\n\u001b[0;32m      <a href='vscode-notebook-cell:/c%3A/Users/ouyan/Desktop/Code/FakeNews/Machine%20Leaning/AutoKereas.ipynb#ch0000014?line=0'>1</a>\u001b[0m \u001b[39m# Predict with the best model.\u001b[39;00m\n\u001b[1;32m----> <a href='vscode-notebook-cell:/c%3A/Users/ouyan/Desktop/Code/FakeNews/Machine%20Leaning/AutoKereas.ipynb#ch0000014?line=1'>2</a>\u001b[0m predicted_y \u001b[39m=\u001b[39m clf\u001b[39m.\u001b[39;49mpredict(x_test)\n\u001b[0;32m      <a href='vscode-notebook-cell:/c%3A/Users/ouyan/Desktop/Code/FakeNews/Machine%20Leaning/AutoKereas.ipynb#ch0000014?line=2'>3</a>\u001b[0m predicted_y\n",
      "File \u001b[1;32mc:\\Users\\ouyan\\anaconda3\\lib\\site-packages\\autokeras\\auto_model.py:451\u001b[0m, in \u001b[0;36mAutoModel.predict\u001b[1;34m(self, x, batch_size, verbose, **kwargs)\u001b[0m\n\u001b[0;32m    449\u001b[0m \u001b[39mself\u001b[39m\u001b[39m.\u001b[39m_check_data_format((x, \u001b[39mNone\u001b[39;00m), predict\u001b[39m=\u001b[39m\u001b[39mTrue\u001b[39;00m)\n\u001b[0;32m    450\u001b[0m dataset \u001b[39m=\u001b[39m \u001b[39mself\u001b[39m\u001b[39m.\u001b[39m_adapt(x, \u001b[39mself\u001b[39m\u001b[39m.\u001b[39minputs, batch_size)\n\u001b[1;32m--> 451\u001b[0m pipeline \u001b[39m=\u001b[39m \u001b[39mself\u001b[39;49m\u001b[39m.\u001b[39;49mtuner\u001b[39m.\u001b[39;49mget_best_pipeline()\n\u001b[0;32m    452\u001b[0m model \u001b[39m=\u001b[39m \u001b[39mself\u001b[39m\u001b[39m.\u001b[39mtuner\u001b[39m.\u001b[39mget_best_model()\n\u001b[0;32m    453\u001b[0m dataset \u001b[39m=\u001b[39m pipeline\u001b[39m.\u001b[39mtransform_x(dataset)\n",
      "File \u001b[1;32mc:\\Users\\ouyan\\anaconda3\\lib\\site-packages\\autokeras\\engine\\tuner.py:67\u001b[0m, in \u001b[0;36mAutoTuner.get_best_pipeline\u001b[1;34m(self)\u001b[0m\n\u001b[0;32m     66\u001b[0m \u001b[39mdef\u001b[39;00m \u001b[39mget_best_pipeline\u001b[39m(\u001b[39mself\u001b[39m):\n\u001b[1;32m---> 67\u001b[0m     \u001b[39mreturn\u001b[39;00m pipeline_module\u001b[39m.\u001b[39;49mload_pipeline(\u001b[39mself\u001b[39;49m\u001b[39m.\u001b[39;49mbest_pipeline_path)\n",
      "File \u001b[1;32mc:\\Users\\ouyan\\anaconda3\\lib\\site-packages\\autokeras\\pipeline.py:77\u001b[0m, in \u001b[0;36mload_pipeline\u001b[1;34m(filepath, custom_objects)\u001b[0m\n\u001b[0;32m     75\u001b[0m     custom_objects \u001b[39m=\u001b[39m {}\n\u001b[0;32m     76\u001b[0m \u001b[39mwith\u001b[39;00m keras\u001b[39m.\u001b[39mutils\u001b[39m.\u001b[39mcustom_object_scope(custom_objects):\n\u001b[1;32m---> 77\u001b[0m     \u001b[39mreturn\u001b[39;00m Pipeline\u001b[39m.\u001b[39mfrom_config(io_utils\u001b[39m.\u001b[39;49mload_json(filepath))\n",
      "File \u001b[1;32mc:\\Users\\ouyan\\anaconda3\\lib\\site-packages\\autokeras\\utils\\io_utils.py:35\u001b[0m, in \u001b[0;36mload_json\u001b[1;34m(path)\u001b[0m\n\u001b[0;32m     33\u001b[0m \u001b[39mdef\u001b[39;00m \u001b[39mload_json\u001b[39m(path):\n\u001b[0;32m     34\u001b[0m     \u001b[39mwith\u001b[39;00m tf\u001b[39m.\u001b[39mio\u001b[39m.\u001b[39mgfile\u001b[39m.\u001b[39mGFile(path, \u001b[39m\"\u001b[39m\u001b[39mr\u001b[39m\u001b[39m\"\u001b[39m) \u001b[39mas\u001b[39;00m f:\n\u001b[1;32m---> 35\u001b[0m         obj \u001b[39m=\u001b[39m f\u001b[39m.\u001b[39;49mread()\n\u001b[0;32m     36\u001b[0m     \u001b[39mreturn\u001b[39;00m json\u001b[39m.\u001b[39mloads(obj)\n",
      "File \u001b[1;32mc:\\Users\\ouyan\\anaconda3\\lib\\site-packages\\tensorflow\\python\\lib\\io\\file_io.py:114\u001b[0m, in \u001b[0;36mFileIO.read\u001b[1;34m(self, n)\u001b[0m\n\u001b[0;32m    102\u001b[0m \u001b[39mdef\u001b[39;00m \u001b[39mread\u001b[39m(\u001b[39mself\u001b[39m, n\u001b[39m=\u001b[39m\u001b[39m-\u001b[39m\u001b[39m1\u001b[39m):\n\u001b[0;32m    103\u001b[0m   \u001b[39m\"\"\"Returns the contents of a file as a string.\u001b[39;00m\n\u001b[0;32m    104\u001b[0m \n\u001b[0;32m    105\u001b[0m \u001b[39m  Starts reading from current position in file.\u001b[39;00m\n\u001b[1;32m   (...)\u001b[0m\n\u001b[0;32m    112\u001b[0m \u001b[39m    string if in string (regular) mode.\u001b[39;00m\n\u001b[0;32m    113\u001b[0m \u001b[39m  \"\"\"\u001b[39;00m\n\u001b[1;32m--> 114\u001b[0m   \u001b[39mself\u001b[39;49m\u001b[39m.\u001b[39;49m_preread_check()\n\u001b[0;32m    115\u001b[0m   \u001b[39mif\u001b[39;00m n \u001b[39m==\u001b[39m \u001b[39m-\u001b[39m\u001b[39m1\u001b[39m:\n\u001b[0;32m    116\u001b[0m     length \u001b[39m=\u001b[39m \u001b[39mself\u001b[39m\u001b[39m.\u001b[39msize() \u001b[39m-\u001b[39m \u001b[39mself\u001b[39m\u001b[39m.\u001b[39mtell()\n",
      "File \u001b[1;32mc:\\Users\\ouyan\\anaconda3\\lib\\site-packages\\tensorflow\\python\\lib\\io\\file_io.py:76\u001b[0m, in \u001b[0;36mFileIO._preread_check\u001b[1;34m(self)\u001b[0m\n\u001b[0;32m     73\u001b[0m \u001b[39mif\u001b[39;00m \u001b[39mnot\u001b[39;00m \u001b[39mself\u001b[39m\u001b[39m.\u001b[39m_read_check_passed:\n\u001b[0;32m     74\u001b[0m   \u001b[39mraise\u001b[39;00m errors\u001b[39m.\u001b[39mPermissionDeniedError(\u001b[39mNone\u001b[39;00m, \u001b[39mNone\u001b[39;00m,\n\u001b[0;32m     75\u001b[0m                                      \u001b[39m\"\u001b[39m\u001b[39mFile isn\u001b[39m\u001b[39m'\u001b[39m\u001b[39mt open for reading\u001b[39m\u001b[39m\"\u001b[39m)\n\u001b[1;32m---> 76\u001b[0m \u001b[39mself\u001b[39m\u001b[39m.\u001b[39m_read_buf \u001b[39m=\u001b[39m _pywrap_file_io\u001b[39m.\u001b[39;49mBufferedInputStream(\n\u001b[0;32m     77\u001b[0m     compat\u001b[39m.\u001b[39;49mpath_to_str(\u001b[39mself\u001b[39;49m\u001b[39m.\u001b[39;49m__name), \u001b[39m1024\u001b[39;49m \u001b[39m*\u001b[39;49m \u001b[39m512\u001b[39;49m)\n",
      "\u001b[1;31mNotFoundError\u001b[0m: NewRandomAccessFile failed to Create/Open: .\\text_classifier\\best_pipeline : The system cannot find the file specified.\r\n; No such file or directory"
     ]
    }
   ],
   "source": [
    "# Predict with the best model.\n",
    "predicted_y = clf.predict(x_test)\n",
    "predicted_y"
   ]
  },
  {
   "cell_type": "code",
   "execution_count": null,
   "metadata": {},
   "outputs": [],
   "source": []
  }
 ],
 "metadata": {
  "interpreter": {
   "hash": "91750c2a53790ed423a273a56ec734ea7db5090134fb92fb4e4bee44fe7b9fce"
  },
  "kernelspec": {
   "display_name": "Python 3.9.12 ('base')",
   "language": "python",
   "name": "python3"
  },
  "language_info": {
   "codemirror_mode": {
    "name": "ipython",
    "version": 3
   },
   "file_extension": ".py",
   "mimetype": "text/x-python",
   "name": "python",
   "nbconvert_exporter": "python",
   "pygments_lexer": "ipython3",
   "version": "3.9.12"
  }
 },
 "nbformat": 4,
 "nbformat_minor": 2
}
